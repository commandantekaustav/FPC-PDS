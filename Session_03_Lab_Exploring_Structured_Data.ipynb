{
 "cells": [
  {
   "cell_type": "markdown",
   "metadata": {},
   "source": [
    "# Session 3: Exploring Structured Data\n",
    "\n",
    "**Unit 1: Introduction to Data Science**\n",
    "**Hour: 3**\n",
    "**Mode: Practical Lab**\n",
    "\n",
    "---\n",
    "\n",
    "### 1. Objective\n",
    "\n",
    "Welcome to your first hands-on lab! By the end of this session, you will be able to load a structured data file (CSV) into Python and perform basic inspections to understand its contents.\n",
    "\n",
    "**What is Structured Data?** It's data organized in a tabular format, like a spreadsheet. CSV (Comma-Separated Values) is the most common format for structured data."
   ]
  },
  {
   "cell_type": "markdown",
   "metadata": {},
   "source": [
    "### 2. Setup: Importing the Pandas Library\n",
    "\n",
    "Pandas is the most essential Python library for data analysis. It gives us a powerful tool called a **DataFrame**, which is perfect for working with table-like data.\n",
    "\n",
    "We import it with the alias `pd`, which is a universal convention among data scientists."
   ]
  },
  {
   "cell_type": "code",
   "execution_count": null,
   "metadata": {},
   "outputs": [],
   "source": [
    "import pandas as pd"
   ]
  },
  {
   "cell_type": "markdown",
   "metadata": {},
   "source": [
    "### 3. Obtain: Loading the Data\n",
    "\n",
    "We will use a simple dataset about video game sales. First, we need to create the CSV file. The code below writes a string of data to a file named `vgsales.csv`."
   ]
  },
  {
   "cell_type": "code",
   "execution_count": null,
   "metadata": {},
   "outputs": [],
   "source": [
    "# Data as a multi-line string\n",
    "csv_data = \"\"\"Rank,Name,Platform,Year,Genre,Publisher,NA_Sales,EU_Sales,JP_Sales,Other_Sales,Global_Sales\n",
    "1,Wii Sports,Wii,2006,Sports,Nintendo,41.49,29.02,3.77,8.46,82.74\n",
    "2,Super Mario Bros.,NES,1985,Platform,Nintendo,29.08,3.58,6.81,0.77,40.24\n",
    "3,Mario Kart Wii,Wii,2008,Racing,Nintendo,15.85,12.88,3.79,3.31,35.82\n",
    "4,Wii Sports Resort,Wii,2009,Sports,Nintendo,15.75,11.01,3.28,2.96,33\n",
    "5,Pokemon Red/Pokemon Blue,GB,1996,Role-Playing,Nintendo,11.27,8.89,10.22,1,31.37\n",
    "6,Tetris,GB,1989,Puzzle,Nintendo,23.2,2.26,4.22,0.58,30.26\n",
    "7,New Super Mario Bros.,DS,2006,Platform,Nintendo,11.38,9.23,6.5,2.9,30.01\n",
    "8,Wii Play,Wii,2006,Misc,Nintendo,14.03,9.2,2.93,2.85,29.02\n",
    "9,New Super Mario Bros. Wii,Wii,2009,Platform,Nintendo,14.59,7.06,4.7,2.26,28.62\n",
    "10,Duck Hunt,NES,1984,Shooter,Nintendo,26.93,0.63,0.28,0.47,28.31\n",
    "\"\"\"\n",
    "\n",
    "# Write the string to a file\n",
    "with open('vgsales.csv', 'w') as f:\n",
    "    f.write(csv_data)"
   ]
  },
  {
   "cell_type": "markdown",
   "metadata": {},
   "source": [
    "Now that the file exists, we can use the `pd.read_csv()` function to load it into a Pandas DataFrame. We'll store it in a variable called `df` (short for DataFrame)."
   ]
  },
  {
   "cell_type": "code",
   "execution_count": null,
   "metadata": {},
   "outputs": [],
   "source": [
    "df = pd.read_csv('vgsales.csv')\n"
   ]
  },
  {
   "cell_type": "markdown",
   "metadata": {},
   "source": [
    "### 4. Explore: Basic Inspection\n",
    "\n",
    "The data is loaded! Now, let's perform our first inspection steps. These commands are the first thing a data scientist does after loading any new dataset."
   ]
  },
  {
   "cell_type": "markdown",
   "metadata": {},
   "source": [
    "#### 4.1. `.head()` - View the First Few Rows\n",
    "\n",
    "This is the best way to get a quick feel for the data and see what the columns look like. By default, it shows the first 5 rows."
   ]
  },
  {
   "cell_type": "code",
   "execution_count": null,
   "metadata": {},
   "outputs": [],
   "source": [
    "df.head()"
   ]
  },
  {
   "cell_type": "markdown",
   "metadata": {},
   "source": [
    "You can also specify how many rows you want to see by passing a number inside the parentheses."
   ]
  },
  {
   "cell_type": "code",
   "execution_count": null,
   "metadata": {},
   "outputs": [],
   "source": [
    "df.head(3) # Show the first 3 rows"
   ]
  },
  {
   "cell_type": "markdown",
   "metadata": {},
   "source": [
    "#### 4.2. `.shape` - Check the Dimensions\n",
    "\n",
    "This attribute tells you how many rows and columns are in your dataset. It returns a tuple in the format `(rows, columns)`."
   ]
  },
  {
   "cell_type": "code",
   "execution_count": null,
   "metadata": {},
   "outputs": [],
   "source": [
    "df.shape"
   ]
  },
  {
   "cell_type": "markdown",
   "metadata": {},
   "source": [
    "**Interpretation:** We have 10 rows and 11 columns."
   ]
  },
  {
   "cell_type": "markdown",
   "metadata": {},
   "source": [
    "#### 4.3. `.info()` - Get a Technical Summary\n",
    "\n",
    "This method provides a concise summary of the DataFrame. It's extremely useful for the \"Scrub\" phase because it tells you:\n",
    "*   The number of entries (rows).\n",
    "*   The name of each column.\n",
    "*   The number of non-null (i.e., not empty) values for each column.\n",
    "*   The data type (Dtype) of each column (e.g., `int64` for integers, `float64` for decimals, `object` for text).\n",
    "*   How much memory the DataFrame is using."
   ]
  },
  {
   "cell_type": "code",
   "execution_count": null,
   "metadata": {},
   "outputs": [],
   "source": [
    "df.info()"
   ]
  },
  {
   "cell_type": "markdown",
   "metadata": {},
   "source": [
    "**Interpretation:**\n",
    "- We can see all columns have 10 non-null values, which means there is no missing data in this small sample.\n",
    "- `Year` is an integer, sales are floats, and text columns like `Name` and `Platform` are `object`s. This looks correct."
   ]
  },
  {
   "cell_type": "markdown",
   "metadata": {},
   "source": [
    "### 5. Conclusion\n",
    "\n",
    "Congratulations! You have successfully:\n",
    "1.  Imported the Pandas library.\n",
    "2.  Loaded a structured CSV file into a DataFrame.\n",
    "3.  Performed the three most fundamental inspection steps: `.head()`, `.shape`, and `.info()`.\n",
    "\n",
    "These simple commands are the starting point for every single data analysis project. In the next lab, we'll see how to handle a different kind of data: semi-structured JSON."
   ]
  }
 ],
 "metadata": {
  "kernelspec": {
   "display_name": "Python 3",
   "language": "python",
   "name": "python3"
  },
  "language_info": {
   "codemirror_mode": {
    "name": "ipython",
    "version": 3
   },
   "file_extension": ".py",
   "mimetype": "text/x-python",
   "name": "python",
   "nbconvert_exporter": "python",
   "pygments_lexer": "ipython3",
   "version": "3.8.8"
  }
 },
 "nbformat": 4,
 "nbformat_minor": 4
}