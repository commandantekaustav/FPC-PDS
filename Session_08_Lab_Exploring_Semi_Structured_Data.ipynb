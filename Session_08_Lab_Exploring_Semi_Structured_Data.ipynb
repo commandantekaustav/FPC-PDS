{
 "cells": [
  {
   "cell_type": "markdown",
   "metadata": {},
   "source": [
    "# Session 8: Exploring Semi-Structured Data (JSON)\n",
    "\n",
    "**Unit 1: Introduction to Data Science**\n",
    "**Hour: 8**\n",
    "**Mode: Practical Lab**\n",
    "\n",
    "---\n",
    "\n",
    "### 1. Objective\n",
    "\n",
    "In this lab, we'll learn to work with semi-structured data, specifically JSON. JSON is the standard format for data transfer on the web, and you'll encounter it frequently when working with APIs.\n",
    "\n",
    "**What is Semi-Structured Data?** It doesn't fit neatly into a table but has organizational markers (like keys and values) that give it structure.\n",
    "\n",
    "Our goal is to load JSON data and transform it into a clean, structured DataFrame."
   ]
  },
  {
   "cell_type": "markdown",
   "metadata": {},
   "source": [
    "### 2. Setup\n",
    "\n",
    "We'll need the `pandas` library, as always, and Python's built-in `json` library."
   ]
  },
  {
   "cell_type": "code",
   "execution_count": null,
   "metadata": {},
   "outputs": [],
   "source": [
    "import pandas as pd\n",
    "import json"
   ]
  },
  {
   "cell_type": "markdown",
   "metadata": {},
   "source": [
    "### 3. The JSON Data\n",
    "\n",
    "Imagine we received the following data from a user database API. It's a list of two users. Notice that the `address` is a \"nested\" object inside the main user object."
   ]
  },
  {
   "cell_type": "code",
   "execution_count": null,
   "metadata": {},
   "outputs": [],
   "source": [
    "json_data = '''\n",
    "[\n",
    "    {\n",
    "        \"id\": 101,\n",
    "        \"name\": \"Alice\",\n",
    "        \"email\": \"alice@example.com\",\n",
    "        \"address\": {\n",
    "            \"street\": \"123 Maple St\",\n",
    "            \"city\": \"Wonderland\"\n",
    "        }\n",
    "    },\n",
    "    {\n",
    "        \"id\": 102,\n",
    "        \"name\": \"Bob\",\n",
    "        \"email\": \"bob@example.com\",\n",
    "        \"address\": {\n",
    "            \"street\": \"456 Oak Ave\",\n",
    "            \"city\": \"Builderton\"\n",
    "        }\n",
    "    }\n",
    "]\n",
    "'''"
   ]
  },
  {
   "cell_type": "markdown",
   "metadata": {},
   "source": [
    "### 4. Handling JSON\n",
    "\n",
    "#### 4.1. Loading JSON as a Python Object\n",
    "\n",
    "First, let's use the `json` library to load the string into a familiar Python object (in this case, a list of dictionaries)."
   ]
  },
  {
   "cell_type": "code",
   "execution_count": null,
   "metadata": {},
   "outputs": [],
   "source": [
    "data = json.loads(json_data)\n",
    "print(data)"
   ]
  },
  {
   "cell_type": "markdown",
   "metadata": {},
   "source": [
    "We can access elements just like we would with any Python list or dictionary."
   ]
  },
  {
   "cell_type": "code",
   "execution_count": null,
   "metadata": {},
   "outputs": [],
   "source": [
    "# Get the first user's name\n",
    "print(data[0]['name'])\n",
    "\n",
    "# Get the second user's city\n",
    "print(data[1]['address']['city'])"
   ]
  },
  {
   "cell_type": "markdown",
   "metadata": {},
   "source": [
    "#### 4.2. Loading JSON directly into Pandas\n",
    "\n",
    "Pandas can often read JSON directly, but let's see what happens with our nested data."
   ]
  },
  {
   "cell_type": "code",
   "execution_count": null,
   "metadata": {},
   "outputs": [],
   "source": [
    "df_nested = pd.read_json(json_data)\n",
    "df_nested.head()"
   ]
  },
  {
   "cell_type": "markdown",
   "metadata": {},
   "source": [
    "**Problem:** Look at the `address` column. It contains the dictionary object, which isn't very useful for analysis. We can't easily filter by city, for example. We need to flatten it."
   ]
  },
  {
   "cell_type": "markdown",
   "metadata": {},
   "source": [
    "#### 4.3. Flattening Nested JSON with `json_normalize`\n",
    "\n",
    "Pandas provides a powerful function, `json_normalize`, specifically for this problem. It intelligently unpacks nested dictionaries and lists into their own columns."
   ]
  },
  {
   "cell_type": "code",
   "execution_count": null,
   "metadata": {},
   "outputs": [],
   "source": [
    "# We first need to load the json string into a python object\n",
    "data_for_normalize = json.loads(json_data)\n",
    "\n",
    "df_flat = pd.json_normalize(data_for_normalize)\n",
    "df_flat.head()"
   ]
  },
  {
   "cell_type": "markdown",
   "metadata": {},
   "source": [
    "**Success!** Notice how `address.street` and `address.city` are now their own proper columns. The data is now fully **structured** and ready for analysis."
   ]
  },
  {
   "cell_type": "markdown",
   "metadata": {},
   "source": [
    "Let's check the `.info()` to confirm."
   ]
  },
  {
   "cell_type": "code",
   "execution_count": null,
   "metadata": {},
   "outputs": [],
   "source": [
    "df_flat.info()"
   ]
  },
  {
   "cell_type": "markdown",
   "metadata": {},
   "source": [
    "### 5. Conclusion\n",
    "\n",
    "In this session, you learned how to:\n",
    "1.  Load JSON data into Python.\n",
    "2.  Recognize the problem of nested data when loading into Pandas.\n",
    "3.  Use the powerful `pd.json_normalize()` function to flatten semi-structured JSON into a clean, structured DataFrame.\n",
    "\n",
    "This is a critical skill for any data scientist who needs to work with data from web APIs. Next, we'll tackle our final data type: unstructured text."
   ]
  }
 ],
 "metadata": {
  "kernelspec": {
   "display_name": "Python 3",
   "language": "python",
   "name": "python3"
  },
  "language_info": {
   "codemirror_mode": {
    "name": "ipython",
    "version": 3
   },
   "file_extension": ".py",
   "mimetype": "text/x-python",
   "name": "python",
   "nbconvert_exporter": "python",
   "pygments_lexer": "ipython3",
   "version": "3.8.8"
  }
 },
 "nbformat": 4,
 "nbformat_minor": 4
}