{
 "cells": [
  {
   "cell_type": "markdown",
   "metadata": {},
   "source": [
    "# Session 12: Workflow in Practice (Initial Data Exploration)\n",
    "\n",
    "**Unit 1: Introduction to Data Science**\n",
    "**Hour: 12**\n",
    "**Mode: Practical Lab**\n",
    "\n",
    "---\n",
    "\n",
    "### 1. Objective\n",
    "\n",
    "In this lab, we will perform the first hands-on steps of our case study. We'll load the Telco Churn dataset and conduct an initial inspection to understand its structure and identify any immediate issues.\n",
    "\n",
    "This covers the **Obtain** and the very beginning of the **Scrub** and **Explore** phases of the OSEMN workflow."
   ]
  },
  {
   "cell_type": "markdown",
   "metadata": {},
   "source": [
    "### 2. Setup\n",
    "\n",
    "We only need the Pandas library for this session."
   ]
  },
  {
   "cell_type": "code",
   "execution_count": null,
   "metadata": {},
   "outputs": [],
   "source": [
    "import pandas as pd"
   ]
  },
  {
   "cell_type": "markdown",
   "metadata": {},
   "source": [
    "### 3. Obtain: Loading the Data\n",
    "\n",
    "We'll load the dataset directly from a URL. This is a common practice when working with public datasets."
   ]
  },
  {
   "cell_type": "code",
   "execution_count": null,
   "metadata": {},
   "outputs": [],
   "source": [
    "url = 'https://raw.githubusercontent.com/IBM/telco-customer-churn-on-icp4d/master/data/Telco-Customer-Churn.csv'\n",
    "df = pd.read_csv(url)"
   ]
  },
  {
   "cell_type": "markdown",
   "metadata": {},
   "source": [
    "### 4. Initial Inspection & Exploration\n",
    "\n",
    "Let's apply the basic inspection techniques we learned in Session 3 to this new, more complex dataset."
   ]
  },
  {
   "cell_type": "markdown",
   "metadata": {},
   "source": [
    "#### 4.1. `.head()` and `.shape`\n",
    "\n",
    "Let's look at the first few rows and check the size of our dataset."
   ]
  },
  {
   "cell_type": "code",
   "execution_count": null,
   "metadata": {},
   "outputs": [],
   "source": [
    "df.head()"
   ]
  },
  {
   "cell_type": "code",
   "execution_count": null,
   "metadata": {},
   "outputs": [],
   "source": [
    "df.shape"
   ]
  },
  {
   "cell_type": "markdown",
   "metadata": {},
   "source": [
    "**Finding:** We have 7043 customers (rows) and 21 columns of information."
   ]
  },
  {
   "cell_type": "markdown",
   "metadata": {},
   "source": [
    "#### 4.2. `.info()` - The Technical Summary\n",
    "\n",
    "This is a critical step to check for missing values and incorrect data types."
   ]
  },
  {
   "cell_type": "code",
   "execution_count": null,
   "metadata": {},
   "outputs": [],
   "source": [
    "df.info()"
   ]
  },
  {
   "cell_type": "markdown",
   "metadata": {},
   "source": [
    "**Findings & Potential Issues:**\n",
    "1.  **No Missing Values?** Most columns show 7043 non-null entries, which seems great. But is this true? We need to investigate further.\n",
    "2.  **Incorrect Data Type:** The `TotalCharges` column, which should be a number (float), is currently an `object` (text). This is a major red flag! It means there are non-numeric values in that column that we'll need to fix in the **Scrub** phase."
   ]
  },
  {
   "cell_type": "markdown",
   "metadata": {},
   "source": [
    "#### 4.3. Exploring the Target Variable: `Churn`\n",
    "\n",
    "It's always a good idea to understand the distribution of what you're trying to predict."
   ]
  },
  {
   "cell_type": "code",
   "execution_count": null,
   "metadata": {},
   "outputs": [],
   "source": [
    "df['Churn'].value_counts()"
   ]
  },
  {
   "cell_type": "markdown",
   "metadata": {},
   "source": [
    "We can see how many customers churned versus how many did not. It's often more useful to see this as a percentage."
   ]
  },
  {
   "cell_type": "code",
   "execution_count": null,
   "metadata": {},
   "outputs": [],
   "source": [
    "# The normalize=True argument converts counts to proportions/percentages\n",
    "churn_rate = df['Churn'].value_counts(normalize=True) * 100\n",
    "print(churn_rate)"
   ]
  },
  {
   "cell_type": "markdown",
   "metadata": {},
   "source": [
    "**Finding:** Approximately **26.5%** of the customers in this dataset have churned. This is called an **imbalanced dataset** because one class (\"No\") is much more common than the other (\"Yes\"). This is an important finding that will affect our modeling choices later."
   ]
  },
  {
   "cell_type": "markdown",
   "metadata": {},
   "source": [
    "### 5. Conclusion\n",
    "\n",
    "In just one hour, we have:\n",
    "1.  Loaded a real-world dataset into Pandas.\n",
    "2.  Performed an initial inspection to understand its size and columns.\n",
    "3.  Identified a critical data quality issue (`TotalCharges` having the wrong data type).\n",
    "4.  Analyzed the distribution of our target variable (`Churn`) and discovered that we are dealing with an imbalanced class problem.\n",
    "\n",
    "These initial findings are crucial and will guide our next steps in the **Scrub** (cleaning) and **Explore** (visualization) phases. This concludes our work for Unit 1!"
   ]
  }
 ],
 "metadata": {
  "kernelspec": {
   "display_name": "Python 3",
   "language": "python",
   "name": "python3"
  },
  "language_info": {
   "codemirror_mode": {
    "name": "ipython",
    "version": 3
   },
   "file_extension": ".py",
   "mimetype": "text/x-python",
   "name": "python",
   "nbconvert_exporter": "python",
   "pygments_lexer": "ipython3",
   "version": "3.8.8"
  }
 },
 "nbformat": 4,
 "nbformat_minor": 4
}