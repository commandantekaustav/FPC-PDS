{
 "cells": [
  {
   "cell_type": "markdown",
   "metadata": {},
   "source": [
    "# Session 21: Python Environment Setup\n",
    "\n",
    "**Unit 2: Data Tools and Platforms**\n",
    "**Hour: 21**\n",
    "**Mode: Lab**\n",
    "\n",
    "---\n",
    "\n",
    "### 1. Objective\n",
    "\n",
    "This session prepares you for the rest of the course, which will be heavily based in Python. We will introduce the tools we'll be using and ensure everyone can run Python code in a notebook environment.\n",
    "\n",
    "Our goal is to understand what Anaconda and Jupyter/Colab are and to write our first lines of Python code for data science."
   ]
  },
  {
   "cell_type": "markdown",
   "metadata": {},
   "source": [
    "### 2. Tools of the Trade\n",
    "\n",
    "#### What is Anaconda?\n",
    "Think of Anaconda as a big toolbox for data scientists. When you install it on your computer, it doesn't just install Python; it also installs over 100 of the most common data science libraries (`pandas`, `numpy`, `scikit-learn`, etc.) and tools like Jupyter Notebook. It handles all the complex dependencies for you. For local development, it's the industry standard.\n",
    "\n",
    "#### What is a Jupyter Notebook?\n",
    "A Jupyter Notebook is an interactive document that lets you write and run code, display visualizations, and write explanatory text all in one place. It's the primary tool for exploratory data analysis. The file you are reading right now is a Jupyter Notebook!\n",
    "\n",
    "#### What is Google Colaboratory (Colab)?\n",
    "Google Colab is essentially a free version of Jupyter Notebook that runs entirely in your web browser. \n",
    "\n",
    "**For this course, we will primarily use Google Colab.**\n",
    "\n",
    "**Why?**\n",
    "*   **No Installation Needed:** You don't need to install Anaconda or anything else on your computer. All you need is a Google account and a web browser.\n",
    "*   **Pre-installed Libraries:** All the essential data science libraries are already installed.\n",
    "*   **Free Access to GPUs:** For advanced deep learning models, Colab provides free access to powerful hardware (GPUs) that can speed up training significantly.\n",
    "*   **Easy Sharing:** You can share notebooks just like you share a Google Doc."
   ]
  },
  {
   "cell_type": "markdown",
   "metadata": {},
   "source": [
    "### 3. The Notebook Interface\n",
    "\n",
    "Jupyter/Colab notebooks are made of **cells**.\n",
    "\n",
    "*   **Code Cells:** These contain Python code that you can execute. When you run a code cell, the output appears directly below it.\n",
    "*   **Text Cells:** These contain formatted text written in Markdown (like this cell). They are used for documentation, explanations, and structuring your analysis.\n",
    "\n",
    "**To run a cell:** Click on the cell and then press **Shift + Enter**, or click the play button (▶) to the left of the cell."
   ]
  },
  {
   "cell_type": "markdown",
   "metadata": {},
   "source": [
    "### 4. Lab Activities\n",
    "\n",
    "Let's practice."
   ]
  },
  {
   "cell_type": "markdown",
   "metadata": {},
   "source": [
    "#### Activity 1: Run a Simple Code Cell\n",
    "Click on the code cell below and press Shift + Enter. You should see the output `Hello, Data Science!` printed below it."
   ]
  },
  {
   "cell_type": "code",
   "execution_count": null,
   "metadata": {},
   "outputs": [],
   "source": [
    "print(\"Hello, Data Science!\")"
   ]
  },
  {
   "cell_type": "markdown",
   "metadata": {},
   "source": [
    "#### Activity 2: The Standard Imports\n",
    "Almost every data science notebook you ever see will start with the following lines. This code imports the key libraries and gives them standard, short aliases to make our code cleaner.\n",
    "\n",
    "*   `import pandas as pd`\n",
    "*   `import numpy as np`\n",
    "*   `import matplotlib.pyplot as plt`\n",
    "*   `import seaborn as sns`\n",
    "\n",
    "Run the cell below to load these libraries into our notebook's memory."
   ]
  },
  {
   "cell_type": "code",
   "execution_count": null,
   "metadata": {},
   "outputs": [],
   "source": [
    "import pandas as pd\n",
    "import numpy as np\n",
    "import matplotlib.pyplot as plt\n",
    "import seaborn as sns\n",
    "\n",
    "print(\"Libraries imported successfully!\")"
   ]
  },
  {
   "cell_type": "markdown",
   "metadata": {},
   "source": [
    "#### Activity 3: Loading Data in Colab\n",
    "Now, let's prove that our environment works by loading the same Telco dataset from a URL, just like we did with the BI tool."
   ]
  },
  {
   "cell_type": "code",
   "execution_count": null,
   "metadata": {},
   "outputs": [],
   "source": [
    "url = 'https://raw.githubusercontent.com/IBM/telco-customer-churn-on-icp4d/master/data/Telco-Customer-Churn.csv'\n",
    "df = pd.read_csv(url)\n",
    "\n",
    "# Let's use the .head() command we learned about\n",
    "df.head()"
   ]
  },
  {
   "cell_type": "markdown",
   "metadata": {},
   "source": [
    "### 5. Session Wrap-up\n",
    "\n",
    "*   You now understand the roles of Anaconda, Jupyter, and Google Colab.\n",
    "*   You can use Google Colab as your primary tool for this course, requiring no local setup.\n",
    "*   You know how to execute code and text cells in a notebook.\n",
    "*   You have practiced the standard library imports that begin almost every data science project.\n",
    "*   You successfully loaded a DataFrame in Python, setting the stage for all future labs.\n",
    "*   **Next Session:** We will dive deep into Python data handling with a hands-on lab focused on the Pandas library.\n"
]
}
],
"metadata": {
"kernelspec": {
"display_name": "Python 3",
"language": "python",
"name": "python3"
},
"language_info": {
"codemirror_mode": {
"name": "ipython",
"version": 3
},
"file_extension": ".py",
"mimetype": "text/x-python",
"name": "python",
"nbconvert_exporter": "python",
"pygments_lexer": "ipython3",
"version": "3.8.8"
}
},
"nbformat": 4,
"nbformat_minor": 4
}