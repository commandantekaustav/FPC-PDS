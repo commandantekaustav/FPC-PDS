{
 "cells": [
  {
   "cell_type": "markdown",
   "metadata": {},
   "source": [
    "# Session 22: Deep Dive into Pandas Inspection\n",
    "\n",
    "**Unit 2: Data Tools and Platforms**\n",
    "**Hour: 22**\n",
    "**Mode: Practical Lab**\n",
    "\n",
    "---\n",
    "\n",
    "### 1. Objective\n",
    "\n",
    "This lab reinforces and expands on our initial data inspection techniques. Mastering these commands is crucial as they form the basis of the **Explore** phase and help identify what needs to be done in the **Scrub** phase.\n",
    "\n",
    "We will use the Telco Churn dataset throughout this lab."
   ]
  },
  {
   "cell_type": "markdown",
   "metadata": {},
   "source": [
    "### 2. Setup\n",
    "\n",
    "As always, we start by importing Pandas and loading our data."
   ]
  },
  {
   "cell_type": "code",
   "execution_count": null,
   "metadata": {},
   "outputs": [],
   "source": [
    "import pandas as pd\n",
    "\n",
    "url = 'https://raw.githubusercontent.com/IBM/telco-customer-churn-on-icp4d/master/data/Telco-Customer-Churn.csv'\n",
    "df = pd.read_csv(url)"
   ]
  },
  {
   "cell_type": "markdown",
   "metadata": {},
   "source": [
    "### 3. Inspection Commands Review\n",
    "\n",
    "Let's quickly review the commands from our first look at this data."
   ]
  },
  {
   "cell_type": "code",
   "execution_count": null,
   "metadata": {},
   "outputs": [],
   "source": [
    "# View first 3 rows\n",
    "df.head(3)"
   ]
  },
  {
   "cell_type": "code",
   "execution_count": null,
   "metadata": {},
   "outputs": [],
   "source": [
    "# Check dimensions (rows, columns)\n",
    "df.shape"
   ]
  },
  {
   "cell_type": "code",
   "execution_count": null,
   "metadata": {},
   "outputs": [],
   "source": [
    "# Get technical summary\n",
    "df.info()"
   ]
  },
  {
   "cell_type": "markdown",
   "metadata": {},
   "source": [
    "### 4. New Inspection Techniques\n",
    "\n",
    "#### 4.1. `.tail()` - View the Last Few Rows\n",
    "\n",
    "Similar to `.head()`, `.tail()` is useful for quickly checking the end of your dataset to ensure it loaded correctly."
   ]
  },
  {
   "cell_type": "code",
   "execution_count": null,
   "metadata": {},
   "outputs": [],
   "source": [
    "df.tail(3)"
   ]
  },
  {
   "cell_type": "markdown",
   "metadata": {},
   "source": [
    "#### 4.2. `.columns` - Get a List of Column Names\n",
    "\n",
    "This attribute gives you a clean list of all the column names. It's very useful when you have many columns and want to copy-paste a name without making a typo."
   ]
  },
  {
   "cell_type": "code",
   "execution_count": null,
   "metadata": {},
   "outputs": [],
   "source": [
    "df.columns"
   ]
  },
  {
   "cell_type": "markdown",
   "metadata": {},
   "source": [
    "#### 4.3. `.describe()` - Get a Statistical Summary\n",
    "\n",
    "This is one of the most powerful inspection tools. For all **numerical columns**, it automatically calculates key descriptive statistics."
   ]
  },
  {
   "cell_type": "code",
   "execution_count": null,
   "metadata": {},
   "outputs": [],
   "source": [
    "df.describe()"
   ]
  },
  {
   "cell_type": "markdown",
   "metadata": {},
   "source": [
    "**How to Interpret `.describe()`:**\n",
    "*   `count`: The number of non-null values. Notice it's the same for `tenure` and `MonthlyCharges`.\n",
    "*   `mean`: The average value. The average tenure is about 32 months.\n",
    "*   `std`: The standard deviation, a measure of how spread out the data is.\n",
    "*   `min`: The minimum value. The minimum tenure is 0 months.\n",
    "*   `25%` (Q1): The first quartile. 25% of customers have a tenure of 9 months or less.\n",
    "*   `50%` (Q2): The median. 50% of customers have a tenure of 29 months or less.\n",
    "*   `75%` (Q3): The third quartile. 75% of customers have a tenure of 55 months or less.\n",
    "*   `max`: The maximum value. The longest-serving customer has been with the company for 72 months."
   ]
  },
  {
   "cell_type": "markdown",
   "metadata": {},
   "source": [
    "#### 4.4. `.value_counts()` - Count Unique Values in a Column\n",
    "\n",
    "This is the best way to understand the distribution of a **categorical column**."
   ]
  },
  {
   "cell_type": "code",
   "execution_count": null,
   "metadata": {},
   "outputs": [],
   "source": [
    "# Let's see the breakdown of contract types\n",
    "df['Contract'].value_counts()"
   ]
  },
  {
   "cell_type": "markdown",
   "metadata": {},
   "source": [
    "We can also see this as a percentage by using `normalize=True`."
   ]
  },
  {
   "cell_type": "code",
   "execution_count": null,
   "metadata": {},
   "outputs": [],
   "source": [
    "df['Contract'].value_counts(normalize=True) * 100"
   ]
  },
  {
   "cell_type": "markdown",
   "metadata": {},
   "source": [
    "**Finding:** Over half of all customers are on a risky month-to-month contract. This reinforces our finding from the BI tool lab."
   ]
  },
  {
   "cell_type": "markdown",
   "metadata": {},
   "source": [
    "### 5. Conclusion\n",
    "\n",
    "In this lab, you expanded your data inspection toolkit with four powerful commands:\n",
    "1.  `.tail()`: To check the end of the data.\n",
    "2.  `.columns`: To get a list of column names.\n",
    "3.  `.describe()`: To get a quick statistical summary of numerical data.\n",
    "4.  `.value_counts()`: To understand the distribution of categorical data.\n",
    "\n",
    "Using these in combination with `.head()` and `.info()` provides a comprehensive first look at any dataset.\n",
    "\n",
    "**Next Session:** We will move from inspecting data to selecting it. You'll learn how to pull out specific columns and rows to focus your analysis."
   ]
  }
 ],
 "metadata": {
  "kernelspec": {
   "display_name": "Python 3",
   "language": "python",
   "name": "python3"
  },
  "language_info": {
   "codemirror_mode": {
    "name": "ipython",
    "version": 3
   },
   "file_extension": ".py",
   "mimetype": "text/x-python",
   "name": "python",
   "nbconvert_exporter": "python",
   "pygments_lexer": "ipython3",
   "version": "3.8.8"
  }
 },
 "nbformat": 4,
 "nbformat_minor": 4
}