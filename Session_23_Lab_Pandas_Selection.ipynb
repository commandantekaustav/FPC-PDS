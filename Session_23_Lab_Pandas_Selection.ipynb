{
 "cells": [
  {
   "cell_type": "markdown",
   "metadata": {},
   "source": [
    "# Session 23: Data Selection with Pandas\n",
    "\n",
    "**Unit 2: Data Tools and Platforms**\n",
    "**Hour: 23**\n",
    "**Mode: Practical Lab**\n",
    "\n",
    "---\n",
    "\n",
    "### 1. Objective\n",
    "\n",
    "This lab focuses on how to select and isolate specific parts of your data. This is a fundamental skill required before any analysis or visualization. You'll learn how to select columns and how to select rows based on conditions.\n",
    "\n",
    "We will continue using the Telco Churn dataset."
   ]
  },
  {
   "cell_type": "markdown",
   "metadata": {},
   "source": [
    "### 2. Setup\n",
    "\n",
    "Import Pandas and load the dataset."
   ]
  },
  {
   "cell_type": "code",
   "execution_count": null,
   "metadata": {},
   "outputs": [],
   "source": [
    "import pandas as pd\n",
    "\n",
    "url = 'https://raw.githubusercontent.com/IBM/telco-customer-churn-on-icp4d/master/data/Telco-Customer-Churn.csv'\n",
    "df = pd.read_csv(url)"
   ]
  },
  {
   "cell_type": "markdown",
   "metadata": {},
   "source": [
    "### 3. Selecting Columns\n",
    "\n",
    "There are two main ways to select a single column."
   ]
  },
  {
   "cell_type": "markdown",
   "metadata": {},
   "source": [
    "#### 3.1. Bracket Notation (Recommended)\n",
    "\n",
    "You use square brackets `[]` with the column name as a string inside. This returns the column as a Pandas **Series**."
   ]
  },
  {
   "cell_type": "code",
   "execution_count": null,
   "metadata": {},
   "outputs": [],
   "source": [
    "df['gender']"
   ]
  },
  {
   "cell_type": "markdown",
   "metadata": {},
   "source": [
    "#### 3.2. Dot Notation\n",
    "\n",
    "You can also use a dot `.` followed by the column name. This is convenient but has limitations (e.g., it doesn't work if the column name has spaces)."
   ]
  },
  {
   "cell_type": "code",
   "execution_count": null,
   "metadata": {},
   "outputs": [],
   "source": [
    "df.gender"
   ]
  },
  {
   "cell_type": "markdown",
   "metadata": {},
   "source": [
    "#### 3.3. Selecting Multiple Columns\n",
    "\n",
    "To select multiple columns, you pass a **list of column names** inside the square brackets. This returns a new, smaller **DataFrame**."
   ]
  },
  {
   "cell_type": "code",
   "execution_count": null,
   "metadata": {},
   "outputs": [],
   "source": [
    "# Note the double square brackets: [[...]]\n",
    "# The outer brackets are for selecting, the inner brackets create the list.\n",
    "customer_info = df[['customerID', 'gender', 'tenure', 'Churn']]\n",
    "customer_info.head()"
   ]
  },
  {
   "cell_type": "markdown",
   "metadata": {},
   "source": [
    "### 4. Selecting Rows based on a Condition (Boolean Indexing)\n",
    "\n",
    "This is one of the most powerful features of Pandas. You can filter your DataFrame to see only the rows that meet a certain condition. This works in two steps."
   ]
  },
  {
   "cell_type": "markdown",
   "metadata": {},
   "source": [
    "#### Step 1: Create the Boolean Series\n",
    "\n",
    "First, you write a logical condition. Pandas will apply this condition to every row in the specified column and return a Series of `True` or `False` values."
   ]
  },
  {
   "cell_type": "code",
   "execution_count": null,
   "metadata": {},
   "outputs": [],
   "source": [
    "# Condition: Find all customers who have churned\n",
    "is_churned = df['Churn'] == 'Yes'\n",
    "is_churned.head()"
   ]
  },
  {
   "cell_type": "markdown",
   "metadata": {},
   "source": [
    "This Series shows `True` for every row where the customer churned and `False` otherwise."
   ]
  },
  {
   "cell_type": "markdown",
   "metadata": {},
   "source": [
    "#### Step 2: Pass the Boolean Series back to the DataFrame\n",
    "\n",
    "Now, you use this `True`/`False` Series to select rows from the original DataFrame. Pandas will only return the rows where the Series has a `True` value."
   ]
  },
  {
   "cell_type": "code",
   "execution_count": null,
   "metadata": {},
   "outputs": [],
   "source": [
    "churned_customers = df[is_churned]\n",
    "churned_customers.head()"
   ]
  },
  {
   "cell_type": "markdown",
   "metadata": {},
   "source": [
    "Notice that the new `churned_customers` DataFrame only contains rows where `Churn` is 'Yes'."
   ]
  },
  {
   "cell_type": "code",
   "execution_count": null,
   "metadata": {},
   "outputs": [],
   "source": [
    "churned_customers.shape"
   ]
  },
  {
   "cell_type": "markdown",
   "metadata": {},
   "source": [
    "This matches the count we saw with `.value_counts()` in the previous lab!"
   ]
  },
  {
   "cell_type": "markdown",
   "metadata": {},
   "source": [
    "#### Combining the steps\n",
    "\n",
    "You will almost always see these two steps combined into a single, clean line of code:"
   ]
  },
  {
   "cell_type": "code",
   "execution_count": null,
   "metadata": {},
   "outputs": [],
   "source": [
    "# Single-line equivalent of the above\n",
    "long_term_customers = df[df['tenure'] > 60]\n",
    "long_term_customers.head()"
   ]
  },
  {
   "cell_type": "markdown",
   "metadata": {},
   "source": [
    "### 5. Conclusion\n",
    "\n",
    "In this lab, you learned the essentials of data selection in Pandas:\n",
    "1.  How to select single or multiple **columns**.\n",
    "2.  How to select **rows** by creating a boolean condition.\n",
    "3.  How to combine these steps into a single line of code for efficient filtering.\n",
    "\n",
    "This ability to isolate specific subsets of your data is fundamental to asking and answering targeted questions.\n",
    "\n",
    "**Next Session:** We will take this one step further by learning how to filter based on *multiple* conditions at once."
   ]
  }
 ],
 "metadata": {
  "kernelspec": {
   "display_name": "Python 3",
   "language": "python",
   "name": "python3"
  },
  "language_info": {
   "codemirror_mode": {
    "name": "ipython",
    "version": 3
   },
   "file_extension": ".py",
   "mimetype": "text/x-python",
   "name": "python",
   "nbconvert_exporter": "python",
   "pygments_lexer": "ipython3",
   "version": "3.8.8"
  }
 },
 "nbformat": 4,
 "nbformat_minor": 4
}