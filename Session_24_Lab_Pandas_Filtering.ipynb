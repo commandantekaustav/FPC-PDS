{
 "cells": [
  {
   "cell_type": "markdown",
   "metadata": {},
   "source": [
    "# Session 24: Advanced Filtering with Pandas\n",
    "\n",
    "**Unit 2: Data Tools and Platforms**\n",
    "**Hour: 24**\n",
    "**Mode: Practical Lab**\n",
    "\n",
    "---\n",
    "\n",
    "### 1. Objective\n",
    "\n",
    "This lab builds on our previous selection lab by teaching you how to filter a DataFrame based on multiple conditions. This allows you to ask much more complex and specific questions of your data.\n",
    "\n",
    "We will continue using the Telco Churn dataset."
   ]
  },
  {
   "cell_type": "markdown",
   "metadata": {},
   "source": [
    "### 2. Setup\n",
    "\n",
    "Import Pandas and load the dataset."
   ]
  },
  {
   "cell_type": "code",
   "execution_count": null,
   "metadata": {},
   "outputs": [],
   "source": [
    "import pandas as pd\n",
    "\n",
    "url = 'https://raw.githubusercontent.com/IBM/telco-customer-churn-on-icp4d/master/data/Telco-Customer-Churn.csv'\n",
    "df = pd.read_csv(url)"
   ]
  },
  {
   "cell_type": "markdown",
   "metadata": {},
   "source": [
    "### 3. Filtering with Multiple Conditions (`&` and `|`)\n",
    "\n",
    "When you want to combine logical conditions in Pandas, you cannot use the standard Python `and` and `or`. Instead, you must use:\n",
    "*   `&` for AND\n",
    "*   `|` for OR\n",
    "\n",
    "Additionally, each individual condition **must** be wrapped in parentheses `()`."
   ]
  },
  {
   "cell_type": "markdown",
   "metadata": {},
   "source": [
    "#### 3.1. Using `&` (AND)\n",
    "\n",
    "**Question:** Find all the customers who churned **AND** have a `tenure` of less than 3 months."
   ]
  },
  {
   "cell_type": "code",
   "execution_count": null,
   "metadata": {},
   "outputs": [],
   "source": [
    "# Define the two conditions separately\n",
    "cond1 = df['Churn'] == 'Yes'\n",
    "cond2 = df['tenure'] < 3\n",
    "\n",
    "# Combine them with '&'\n",
    "high_risk_customers = df[cond1 & cond2]\n",
    "high_risk_customers.head()"
   ]
  },
  {
   "cell_type": "markdown",
   "metadata": {},
   "source": [
    "**Let's write this in a single line:**"
   ]
  },
  {
   "cell_type": "code",
   "execution_count": null,
   "metadata": {},
   "outputs": [],
   "source": [
    "# Notice the parentheses around each condition\n",
    "high_risk_customers_oneline = df[(df['Churn'] == 'Yes') & (df['tenure'] < 3)]\n",
    "\n",
    "print(f\"Number of high-risk customers: {len(high_risk_customers_oneline)}\")"
   ]
  },
  {
   "cell_type": "markdown",
   "metadata": {},
   "source": [
    "#### 3.2. Using `|` (OR)\n",
    "\n",
    "**Question:** Find all customers who have a `Contract` of 'Two year' **OR** have `InternetService` of 'No'."
   ]
  },
  {
   "cell_type": "code",
   "execution_count": null,
   "metadata": {},
   "outputs": [],
   "source": [
    "low_risk_customers = df[(df['Contract'] == 'Two year') | (df['InternetService'] == 'No')]\n",
    "low_risk_customers.head()"
   ]
  },
  {
   "cell_type": "markdown",
   "metadata": {},
   "source": [
    "### 4. Filtering with `.isin()`\n",
    "\n",
    "What if you want to find rows where a column value is one of several options? You could use many `|` conditions, but that gets messy.\n",
    "\n",
    "**Question:** Find all customers whose `PaymentMethod` is either 'Bank transfer (automatic)' or 'Credit card (automatic)'.\n",
    "\n",
    "The `.isin()` method is perfect for this. You give it a list of values to check for."
   ]
  },
  {
   "cell_type": "code",
   "execution_count": null,
   "metadata": {},
   "outputs": [],
   "source": [
    "auto_payment_methods = ['Bank transfer (automatic)', 'Credit card (automatic)']\n",
    "\n",
    "auto_payment_customers = df[df['PaymentMethod'].isin(auto_payment_methods)]\n",
    "auto_payment_customers.head()"
   ]
  },
  {
   "cell_type": "markdown",
   "metadata": {},
   "source": [
    "### 5. Combining It All\n",
    "\n",
    "Let's ask a complex business question.\n",
    "\n",
    "**Question:** Find all the senior citizens who are on a month-to-month contract but do NOT have tech support, and show only their tenure, monthly charges, and churn status."
   ]
  },
  {
   "cell_type": "code",
   "execution_count": null,
   "metadata": {},
   "outputs": [],
   "source": [
    "# Define our conditions\n",
    "is_senior = df['SeniorCitizen'] == 1\n",
    "is_monthly = df['Contract'] == 'Month-to-month'\n",
    "no_tech_support = df['TechSupport'] == 'No'\n",
    "\n",
    "# Filter the rows\n",
    "vulnerable_seniors = df[is_senior & is_monthly & no_tech_support]\n",
    "\n",
    "# Select the columns\n",
    "result = vulnerable_seniors[['tenure', 'MonthlyCharges', 'Churn']]\n",
    "result.head()"
   ]
  },
  {
   "cell_type": "markdown",
   "metadata": {},
   "source": [
    "### 6. Conclusion\n",
    "\n",
    "In this lab, you mastered advanced filtering techniques:\n",
    "1.  Combining conditions with `&` (AND) and `|` (OR).\n",
    "2.  Remembering to wrap each condition in parentheses `()`.\n",
    "3.  Using `.isin()` to filter for multiple values in a category.\n",
    "4.  Chaining filtering (selecting rows) and selection (selecting columns) to answer highly specific questions.\n",
    "\n",
    "These skills conclude our introduction to data selection and prepare us to move into the next phase of the workflow: Data Collection and Cleaning.\n",
    "\n",
    "**Next Session:** We will step back for a theoretical overview of different data collection methods."
   ]
  }
 ],
 "metadata": {
  "kernelspec": {
   "display_name": "Python 3",
   "language": "python",
   "name": "python3"
  },
  "language_info": {
   "codemirror_mode": {
    "name": "ipython",
    "version": 3
   },
   "file_extension": ".py",
   "mimetype": "text/x-python",
   "name": "python",
   "nbconvert_exporter": "python",
   "pygments_lexer": "ipython3",
   "version": "3.8.8"
  }
 },
 "nbformat": 4,
 "nbformat_minor": 4
}