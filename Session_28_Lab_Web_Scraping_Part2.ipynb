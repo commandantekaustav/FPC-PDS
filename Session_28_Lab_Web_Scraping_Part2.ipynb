{
 "cells": [
  {
   "cell_type": "markdown",
   "metadata": {},
   "source": [
    "# Session 28: Web Scraping with BeautifulSoup (Part 2)\n",
    "\n",
    "**Unit 3: Data Collection and Cleaning**\n",
    "**Hour: 28**\n",
    "**Mode: Practical Lab**\n",
    "\n",
    "---\n",
    "\n",
    "### 1. Objective\n",
    "\n",
    "This lab builds on our previous web scraping session. Instead of just finding the first quote, our goal is to:\n",
    "1.  Find **all** the quotes on the page.\n",
    "2.  Loop through them to extract the text and author from each one.\n",
    "3.  Store the scraped data in a clean, structured Pandas DataFrame."
   ]
  },
  {
   "cell_type": "markdown",
   "metadata": {},
   "source": [
    "### 2. Setup\n",
    "\n",
    "We need `requests`, `BeautifulSoup`, and now `pandas` to store our results."
   ]
  },
  {
   "cell_type": "code",
   "execution_count": null,
   "metadata": {},
   "outputs": [],
   "source": [
    "import requests\n",
    "from bs4 import BeautifulSoup\n",
    "import pandas as pd"
   ]
  },
  {
   "cell_type": "markdown",
   "metadata": {},
   "source": [
    "### 3. Review: Request and Parse\n",
    "\n",
    "Let's quickly re-run the code from last session to get our `soup` object."
   ]
  },
  {
   "cell_type": "code",
   "execution_count": null,
   "metadata": {},
   "outputs": [],
   "source": [
    "URL = 'http://quotes.toscrape.com/'\n",
    "response = requests.get(URL)\n",
    "soup = BeautifulSoup(response.text, 'html.parser')"
   ]
  },
  {
   "cell_type": "markdown",
   "metadata": {},
   "source": [
    "### 4. Finding All Elements\n",
    "\n",
    "Instead of `.find()`, which only gets the first match, we use the `.find_all()` method to get a list of all matching elements.\n",
    "\n",
    "Let's find all the `<div class='quote'>` elements on the page."
   ]
  },
  {
   "cell_type": "code",
   "execution_count": null,
   "metadata": {},
   "outputs": [],
   "source": [
    "all_quote_divs = soup.find_all('div', class_='quote')\n",
    "\n",
    "print(f\"Found {len(all_quote_divs)} quotes on the page.\")"
   ]
  },
  {
   "cell_type": "markdown",
   "metadata": {},
   "source": [
    "### 5. Looping and Extracting Data\n",
    "\n",
    "Now that `all_quote_divs` is a list of BeautifulSoup objects, we can loop through it. In each iteration, the `quote_div` variable will be one of the quote containers we found, and we can run `.find()` *inside* it to get the specific text and author."
   ]
  },
  {
   "cell_type": "code",
   "execution_count": null,
   "metadata": {},
   "outputs": [],
   "source": [
    "for quote_div in all_quote_divs:\n",
    "    quote_text = quote_div.find('span', class_='text').text\n",
    "    author_name = quote_div.find('small', class_='author').text\n",
    "    \n",
    "    print(f\"{quote_text} - {author_name}\")\n",
    "    print(\"---\")"
   ]
  },
  {
   "cell_type": "markdown",
   "metadata": {},
   "source": [
    "### 6. Storing the Data in a DataFrame\n",
    "\n",
    "This is the final and most important step. We need to store our results in a structured format. The standard way to do this is to:\n",
    "1.  Create an empty list.\n",
    "2.  Inside the loop, create a dictionary for each quote.\n",
    "3.  Append each dictionary to the list.\n",
    "4.  After the loop, convert the list of dictionaries into a Pandas DataFrame."
   ]
  },
  {
   "cell_type": "code",
   "execution_count": null,
   "metadata": {},
   "outputs": [],
   "source": [
    "# 1. Create an empty list\n",
    "quotes_list = []\n",
    "\n",
    "# Find all the quote divs again\n",
    "all_quote_divs = soup.find_all('div', class_='quote')\n",
    "\n",
    "for quote_div in all_quote_divs:\n",
    "    quote_text = quote_div.find('span', class_='text').text\n",
    "    author_name = quote_div.find('small', class_='author').text\n",
    "    \n",
    "    # 2. Create a dictionary\n",
    "    quote_dict = {\n",
    "        'Author': author_name,\n",
    "        'Quote': quote_text\n",
    "    }\n",
    "    \n",
    "    # 3. Append the dictionary to the list\n",
    "    quotes_list.append(quote_dict)\n",
    "\n",
    "# 4. Convert the list of dictionaries to a DataFrame\n",
    "df_quotes = pd.DataFrame(quotes_list)\n"
   ]
  },
  {
   "cell_type": "markdown",
   "metadata": {},
   "source": [
    "Now, let's look at our beautiful, structured DataFrame!"
   ]
  },
  {
   "cell_type": "code",
   "execution_count": null,
   "metadata": {},
   "outputs": [],
   "source": [
    "df_quotes.head()"
   ]
  },
  {
   "cell_type": "markdown",
   "metadata": {},
   "source": [
    "We can save this data to a CSV file for later use."
   ]
  },
  {
   "cell_type": "code",
   "execution_count": null,
   "metadata": {},
   "outputs": [],
   "source": [
    "df_quotes.to_csv('scraped_quotes.csv', index=False) # index=False prevents pandas from writing the row numbers"
   ]
  },
  {
   "cell_type": "markdown",
   "metadata": {},
   "source": [
    "### 7. Conclusion\n",
    "\n",
    "In this lab, you leveled up your web scraping skills significantly. You learned to:\n",
    "1.  Use `.find_all()` to retrieve all elements matching your criteria.\n",
    "2.  Iterate through the results in a `for` loop.\n",
    "3.  Extract the specific data you need from each element inside the loop.\n",
    "4.  Follow the best practice of storing scraped data as a list of dictionaries.\n",
    "5.  Convert this list into a clean Pandas DataFrame, transforming unstructured web data into structured, analyzable data.\n",
    "\n",
    "**Next Session:** We will return to our Telco dataset to begin the hands-on data cleaning labs, starting with how to handle missing data."
   ]
  }
 ],
 "metadata": {
  "kernelspec": {
   "display_name": "Python 3",
   "language": "python",
   "name": "python3"
  },
  "language_info": {
   "codemirror_mode": {
    "name": "ipython",
    "version": 3
   },
   "file_extension": ".py",
   "mimetype": "text/x-python",
   "name": "python",
   "nbconvert_exporter": "python",
   "pygments_lexer": "ipython3",
   "version": "3.8.8"
  }
 },
 "nbformat": 4,
 "nbformat_minor": 4
}