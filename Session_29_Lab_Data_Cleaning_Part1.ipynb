{
 "cells": [
  {
   "cell_type": "markdown",
   "metadata": {},
   "source": [
    "# Session 29: Data Cleaning Part 1 (Fixing Data Types)\n",
    "\n",
    "**Unit 3: Data Collection and Cleaning**\n",
    "**Hour: 29**\n",
    "**Mode: Practical Lab**\n",
    "\n",
    "---\n",
    "\n",
    "### 1. Objective\n",
    "\n",
    "This is the first hands-on lab dedicated to cleaning our Telco Churn dataset. Our primary goal is to address the most critical issue we identified during exploration: the `TotalCharges` column has the wrong data type.\n",
    "\n",
    "We will learn how to diagnose the problem, handle errors during conversion, and successfully change the column to a numeric type."
   ]
  },
  {
   "cell_type": "markdown",
   "metadata": {},
   "source": [
    "### 2. Setup\n",
    "\n",
    "Import Pandas and load the Telco dataset."
   ]
  },
  {
   "cell_type": "code",
   "execution_count": null,
   "metadata": {},
   "outputs": [],
   "source": [
    "import pandas as pd\n",
    "\n",
    "url = 'https://raw.githubusercontent.com/IBM/telco-customer-churn-on-icp4d/master/data/Telco-Customer-Churn.csv'\n",
    "df = pd.read_csv(url)"
   ]
  },
  {
   "cell_type": "markdown",
   "metadata": {},
   "source": [
    "### 3. Diagnosing the Problem\n",
    "\n",
    "First, let's confirm the problem using `.info()`."
   ]
  },
  {
   "cell_type": "code",
   "execution_count": null,
   "metadata": {},
   "outputs": [],
   "source": [
    "df.info()"
   ]
  },
  {
   "cell_type": "markdown",
   "metadata": {},
   "source": [
    "As we see, `TotalCharges` is an `object` (text) type, not a `float64` (numeric) type. This means we can't perform mathematical operations on it.\n",
    "\n",
    "Let's try to convert it directly using `pd.to_numeric` and see what happens."
   ]
  },
  {
   "cell_type": "code",
   "execution_count": null,
   "metadata": {},
   "outputs": [],
   "source": [
    "# This cell will intentionally cause an error!\n",
    "try:\n",
    "    pd.to_numeric(df['TotalCharges'])\n",
    "except ValueError as e:\n",
    "    print(f\"Error: {e}\")"
   ]
  },
  {
   "cell_type": "markdown",
   "metadata": {},
   "source": [
    "The error message `Unable to parse string ' '` tells us exactly what the problem is: some of the values in the `TotalCharges` column are not numbers, but empty strings `' '`.\n",
    "\n",
    "How many of these are there?"
   ]
  },
  {
   "cell_type": "markdown",
   "metadata": {},
   "source": [
    "### 4. Finding the Problematic Rows\n",
    "\n",
    "We can filter the DataFrame to find the rows where `TotalCharges` is just a space."
   ]
  },
  {
   "cell_type": "code",
   "execution_count": null,
   "metadata": {},
   "outputs": [],
   "source": [
    "problematic_rows = df[df['TotalCharges'] == ' ']\n",
    "problematic_rows"
   ]
  },
  {
   "cell_type": "markdown",
   "metadata": {},
   "source": [
    "**Insight:** We've found 11 rows where this occurs. Looking at the `tenure` column, we see that all of these customers have a tenure of 0. This makes sense: they are brand new customers and haven't been charged anything yet, so the system left the value blank.\n",
    "\n",
    "This is essentially a form of missing data."
   ]
  },
  {
   "cell_type": "markdown",
   "metadata": {},
   "source": [
    "### 5. Fixing the Problem\n",
    "\n",
    "The `pd.to_numeric` function has a useful parameter called `errors`. By setting `errors='coerce'`, we tell Pandas: \"Try to convert the column to a number. If you encounter any value that you can't convert (like our ' ' strings), just replace it with `NaN` (Not a Number), which is Pandas' standard marker for missing values.\""
   ]
  },
  {
   "cell_type": "code",
   "execution_count": null,
   "metadata": {},
   "outputs": [],
   "source": [
    "# The 'coerce' argument is extremely useful\n",
    "df['TotalCharges'] = pd.to_numeric(df['TotalCharges'], errors='coerce')"
   ]
  },
  {
   "cell_type": "markdown",
   "metadata": {},
   "source": [
    "Now, let's check the `.info()` again to see if our fix worked."
   ]
  },
  {
   "cell_type": "code",
   "execution_count": null,
   "metadata": {},
   "outputs": [],
   "source": [
    "df.info()"
   ]
  },
  {
   "cell_type": "markdown",
   "metadata": {},
   "source": [
    "**Success!**\n",
    "1.  The `TotalCharges` column is now a `float64` type.\n",
    "2.  The number of non-null entries for `TotalCharges` is now `7032` (7043 - 11), correctly showing that we now have 11 missing values."
   ]
  },
  {
   "cell_type": "markdown",
   "metadata": {},
   "source": [
    "We can also confirm by checking for null values directly."
   ]
  },
  {
   "cell_type": "code",
   "execution_count": null,
   "metadata": {},
   "outputs": [],
   "source": [
    "# .isnull() returns True for missing values, .sum() counts the Trues\n",
    "df['TotalCharges'].isnull().sum()"
   ]
  },
  {
   "cell_type": "markdown",
   "metadata": {},
   "source": [
    "### 6. Conclusion\n",
    "\n",
    "In this session, you learned a critical data cleaning workflow:\n",
    "1.  Use `.info()` to identify columns with incorrect data types.\n",
    "2.  Attempt a direct conversion to diagnose the specific error.\n",
    "3.  Isolate and inspect the problematic rows to understand the root cause.\n",
    "4.  Use `pd.to_numeric` with `errors='coerce'` to force the conversion while correctly flagging problematic entries as missing data (`NaN`).\n",
    "\n",
    "**Next Session:** Now that we have correctly identified the missing `TotalCharges`, we will learn how to handle them using imputation."
   ]
  }
 ],
 "metadata": {
  "kernelspec": {
   "display_name": "Python 3",
   "language": "python",
   "name": "python3"
  },
  "language_info": {
   "codemirror_mode": {
    "name": "ipython",
    "version": 3
   },
   "file_extension": ".py",
   "mimetype": "text/x-python",
   "name": "python",
   "nbconvert_exporter": "python",
   "pygments_lexer": "ipython3",
   "version": "3.8.8"
  }
 },
 "nbformat": 4,
 "nbformat_minor": 4
}