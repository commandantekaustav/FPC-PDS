{
 "cells": [
  {
   "cell_type": "markdown",
   "metadata": {},
   "source": [
    "# Session 30: Data Cleaning Part 2 (Handling Missing Data)\n",
    "\n",
    "**Unit 3: Data Collection and Cleaning**\n",
    "**Hour: 30**\n",
    "**Mode: Practical Lab**\n",
    "\n",
    "---\n",
    "\n",
    "### 1. Objective\n",
    "\n",
    "Building on the last session, our goal is to handle the 11 missing values we identified in the `TotalCharges` column. We will learn how to fill these `NaN` values using a common strategy: **imputation**."
   ]
  },
  {
   "cell_type": "markdown",
   "metadata": {},
   "source": [
    "### 2. Setup\n",
    "\n",
    "Let's get our DataFrame to the state it was in at the end of the last lab."
   ]
  },
  {
   "cell_type": "code",
   "execution_count": null,
   "metadata": {},
   "outputs": [],
   "source": [
    "import pandas as pd\n",
    "\n",
    "url = 'https://raw.githubusercontent.com/IBM/telco-customer-churn-on-icp4d/master/data/Telco-Customer-Churn.csv'\n",
    "df = pd.read_csv(url)\n",
    "\n",
    "# Coerce TotalCharges to numeric, creating NaNs\n",
    "df['TotalCharges'] = pd.to_numeric(df['TotalCharges'], errors='coerce')"
   ]
  },
  {
   "cell_type": "markdown",
   "metadata": {},
   "source": [
    "### 3. Diagnosing the Missing Data\n",
    "\n",
    "Let's confirm the number of missing values."
   ]
  },
  {
   "cell_type": "code",
   "execution_count": null,
   "metadata": {},
   "outputs": [],
   "source": [
    "print(f\"Number of missing values in TotalCharges: {df['TotalCharges'].isnull().sum()}\")"
   ]
  },
  {
   "cell_type": "markdown",
   "metadata": {},
   "source": [
    "### 4. Imputation Strategy\n",
    "\n",
    "Since we only have 11 missing values out of over 7000 rows, deleting these rows would be a reasonable option. However, for the sake of learning, we will use imputation.\n",
    "\n",
    "**Strategy:** For numerical data, a safe and common strategy is to fill the missing values with the **median** of the column. We use the median instead of the mean because the median is robust to outliers (it isn't skewed by a few extremely high or low values).\n",
    "\n",
    "Let's calculate the median of the `TotalCharges` column."
   ]
  },
  {
   "cell_type": "code",
   "execution_count": null,
   "metadata": {},
   "outputs": [],
   "source": [
    "median_total_charges = df['TotalCharges'].median()\n",
    "print(f\"The median total charges is: {median_total_charges:.2f}\")"
   ]
  },
  {
   "cell_type": "markdown",
   "metadata": {},
   "source": [
    "### 5. Applying the Imputation\n",
    "\n",
    "Pandas provides the `.fillna()` method to fill missing values. We will pass the median we just calculated to this method.\n",
    "\n",
    "The `inplace=True` argument modifies the DataFrame directly, so we don't need to reassign it `(df = ...)`."
   ]
  },
  {
   "cell_type": "code",
   "execution_count": null,
   "metadata": {},
   "outputs": [],
   "source": [
    "df['TotalCharges'].fillna(median_total_charges, inplace=True)"
   ]
  },
  {
   "cell_type": "markdown",
   "metadata": {},
   "source": [
    "### 6. Verifying the Fix\n",
    "\n",
    "Now, let's check for missing values again. The count should be 0."
   ]
  },
  {
   "cell_type": "code",
   "execution_count": null,
   "metadata": {},
   "outputs": [],
   "source": [
    "print(f\"Number of missing values in TotalCharges after imputation: {df['TotalCharges'].isnull().sum()}\")"
   ]
  },
  {
   "cell_type": "markdown",
   "metadata": {},
   "source": [
    "Let's also check the `.info()` summary. The `TotalCharges` column should now have 7043 non-null entries, just like all the other columns."
   ]
  },
  {
   "cell_type": "code",
   "execution_count": null,
   "metadata": {},
   "outputs": [],
   "source": [
    "df.info()"
   ]
  },
  {
   "cell_type": "markdown",
   "metadata": {},
   "source": [
    "**Success!** The data type is correct, and there are no more missing values in that column."
   ]
  },
  {
   "cell_type": "markdown",
   "metadata": {},
   "source": [
    "### 7. Conclusion\n",
    "\n",
    "In this session, you learned the standard workflow for handling missing numerical data:\n",
    "1.  Use `.isnull().sum()` to count the number of missing values.\n",
    "2.  Choose an imputation strategy (e.g., filling with the median for numerical data).\n",
    "3.  Calculate the value to be imputed (e.g., using `.median()`).\n",
    "4.  Use the `.fillna()` method to replace the `NaN` values.\n",
    "5.  Verify that the fix was successful by checking for missing values again.\n",
    "\n",
    "Our dataset is now one step closer to being ready for modeling.\n",
    "\n",
    "**Next Session:** We will continue cleaning by finding and handling duplicate data."
   ]
  }
 ],
 "metadata": {
  "kernelspec": {
   "display_name": "Python 3",
   "language": "python",
   "name": "python3"
  },
  "language_info": {
   "codemirror_mode": {
    "name": "ipython",
    "version": 3
   },
   "file_extension": ".py",
   "mimetype": "text/x-python",
   "name": "python",
   "nbconvert_exporter": "python",
   "pygments_lexer": "ipython3",
   "version": "3.8.8"
  }
 },
 "nbformat": 4,
 "nbformat_minor": 4
}