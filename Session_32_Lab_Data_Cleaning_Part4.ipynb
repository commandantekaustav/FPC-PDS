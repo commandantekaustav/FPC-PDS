{
 "cells": [
  {
   "cell_type": "markdown",
   "metadata": {},
   "source": [
    "# Session 32: Data Cleaning Part 4 (Handling Outliers)\n",
    "\n",
    "**Unit 3: Data Collection and Cleaning**\n",
    "**Hour: 32**\n",
    "**Mode: Practical Lab**\n",
    "\n",
    "---\n",
    "\n",
    "### 1. Objective\n",
    "\n",
    "This lab focuses on identifying outliers in numerical data. Outliers can skew statistical analyses and negatively affect some machine learning models. We will use a common statistical method, the **Interquartile Range (IQR)**, to find them.\n",
    "\n",
    "**What is an outlier?** A data point that is significantly different from other observations."
   ]
  },
  {
   "cell_type": "markdown",
   "metadata": {},
   "source": [
    "### 2. Setup\n",
    "\n",
    "We will continue with our Telco dataset."
   ]
  },
  {
   "cell_type": "code",
   "execution_count": null,
   "metadata": {},
   "outputs": [],
   "source": [
    "import pandas as pd\n",
    "\n",
    "url = 'https://raw.githubusercontent.com/IBM/telco-customer-churn-on-icp4d/master/data/Telco-Customer-Churn.csv'\n",
    "df = pd.read_csv(url)"
   ]
  },
  {
   "cell_type": "markdown",
   "metadata": {},
   "source": [
    "### 3. The IQR Method for Outlier Detection\n",
    "\n",
    "The Interquartile Range (IQR) is the range between the first quartile (25th percentile) and the third quartile (75th percentile). It represents the middle 50% of the data.\n",
    "\n",
    "A common rule of thumb is that any data point that falls **below Q1 - 1.5 * IQR** or **above Q3 + 1.5 * IQR** is considered an outlier.\n",
    "\n",
    "Let's apply this to the `MonthlyCharges` column."
   ]
  },
  {
   "cell_type": "markdown",
   "metadata": {},
   "source": [
    "#### Step 1: Calculate Q1, Q3, and IQR\n",
    "\n",
    "We can get Q1 and Q3 from the `.describe()` method or calculate them directly with `.quantile()`."
   ]
  },
  {
   "cell_type": "code",
   "execution_count": null,
   "metadata": {},
   "outputs": [],
   "source": [
    "Q1 = df['MonthlyCharges'].quantile(0.25)\n",
    "Q3 = df['MonthlyCharges'].quantile(0.75)\n",
    "IQR = Q3 - Q1\n",
    "\n",
    "print(f\"Q1 (25th percentile): {Q1:.2f}\")\n",
    "print(f\"Q3 (75th percentile): {Q3:.2f}\")\n",
    "print(f\"IQR (Interquartile Range): {IQR:.2f}\")"
   ]
  },
  {
   "cell_type": "markdown",
   "metadata": {},
   "source": [
    "#### Step 2: Define the Outlier Boundaries\n",
    "\n",
    "Now we calculate the lower and upper bounds based on the rule."
   ]
  },
  {
   "cell_type": "code",
   "execution_count": null,
   "metadata": {},
   "outputs": [],
   "source": [
    "lower_bound = Q1 - 1.5 * IQR\n",
    "upper_bound = Q3 + 1.5 * IQR\n",
    "\n",
    "print(f\"Lower outlier boundary: {lower_bound:.2f}\")\n",
    "print(f\"Upper outlier boundary: {upper_bound:.2f}\")"
   ]
  },
  {
   "cell_type": "markdown",
   "metadata": {},
   "source": [
    "#### Step 3: Identify the Outliers\n",
    "\n",
    "We can now use these boundaries to filter our DataFrame and see if any rows fall outside this range."
   ]
  },
  {
   "cell_type": "code",
   "execution_count": null,
   "metadata": {},
   "outputs": [],
   "source": [
    "# Find outliers using the OR condition\n",
    "outliers = df[(df['MonthlyCharges'] < lower_bound) | (df['MonthlyCharges'] > upper_bound)]\n",
    "\n",
    "print(f\"Number of outliers found: {len(outliers)}\")"
   ]
  },
  {
   "cell_type": "markdown",
   "metadata": {},
   "source": [
    "**Finding:** The IQR method did not find any outliers in the `MonthlyCharges` column. This suggests the data is quite well-behaved and doesn't have extreme, erroneous values.\n",
    "\n",
    "This is a form of analysis in itself. We have determined that the `MonthlyCharges` data does not contain significant outliers according to a standard statistical test."
   ]
  },
  {
   "cell_type": "markdown",
   "metadata": {},
   "source": [
    "### 4. Visualizing Outliers with a Box Plot\n",
    "\n",
    "A box plot is the visual representation of the IQR method. The \"whiskers\" of the plot typically extend to the 1.5 * IQR boundaries. Any points that fall outside the whiskers are plotted as individual dots, making them easy to see.\n",
    "\n",
    "Let's use Seaborn to create a box plot."
   ]
  },
  {
   "cell_type": "code",
   "execution_count": null,
   "metadata": {},
   "outputs": [],
   "source": [
    "import seaborn as sns\n",
    "import matplotlib.pyplot as plt\n",
    "\n",
    "plt.figure(figsize=(8, 6))\n",
    "sns.boxplot(x=df['MonthlyCharges'])\n",
    "plt.title('Box Plot of Monthly Charges')\n",
    "plt.show()"
   ]
  },
  {
   "cell_type": "markdown",
   "metadata": {},
   "source": [
    "**Interpretation:** The box plot visually confirms our finding. The whiskers extend to the full range of the data, and there are no individual points plotted beyond them, indicating no outliers were detected by this method."
   ]
  },
  {
   "cell_type": "markdown",
   "metadata": {},
   "source": [
    "### 5. Conclusion\n",
    "\n",
    "In this session, you learned a robust method for identifying outliers:\n",
    "1.  Understand the Interquartile Range (IQR) method for defining outliers.\n",
    "2.  Calculate Q1, Q3, and the upper/lower boundaries.\n",
    "3.  Apply a filter to the DataFrame to find data points that fall outside these boundaries.\n",
    "4.  Use a box plot as a quick and effective way to visualize potential outliers.\n",
    "\n",
    "While we found no outliers in this specific case, this process is a vital part of data cleaning to ensure the quality of your analysis.\n",
    "\n",
    "**Next Session:** We will move on to the next cleaning step: Data Transformation, starting with normalization."
   ]
  }
 ],
 "metadata": {
  "kernelspec": {
   "display_name": "Python 3",
   "language": "python",
   "name": "python3"
  },
  "language_info": {
   "codemirror_mode": {
    "name": "ipython",
    "version": 3
   },
   "file_extension": ".py",
   "mimetype": "text/x-python",
   "name": "python",
   "nbconvert_exporter": "python",
   "pygments_lexer": "ipython3",
   "version": "3.8.8"
  }
 },
 "nbformat": 4,
 "nbformat_minor": 4
}
