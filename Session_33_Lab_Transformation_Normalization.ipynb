{
 "cells": [
  {
   "cell_type": "markdown",
   "metadata": {},
   "source": [
    "# Session 33: Data Transformation (Normalization)\n",
    "\n",
    "**Unit 3: Data Collection and Cleaning**\n",
    "**Hour: 33**\n",
    "**Mode: Practical Lab**\n",
    "\n",
    "---\n",
    "\n",
    "### 1. Objective\n",
    "\n",
    "This lab introduces a key data transformation technique: **Normalization**. We will learn why it's important and how to apply it using the Scikit-learn library.\n",
    "\n",
    "**What is Normalization?** It is the process of scaling numerical data to a fixed range, typically **0 to 1**.\n",
    "\n",
    "**Why do we do it?** Many machine learning algorithms perform better when numerical features are on a similar scale. For example, an algorithm might incorrectly think that `TotalCharges` (values up to ~8000) is more \"important\" than `tenure` (values up to 72) simply because the numbers are bigger. Normalization prevents this bias."
   ]
  },
  {
   "cell_type": "markdown",
   "metadata": {},
   "source": [
    "### 2. Setup\n",
    "\n",
    "We need Pandas and the `MinMaxScaler` from the Scikit-learn library."
   ]
  },
  {
   "cell_type": "code",
   "execution_count": null,
   "metadata": {},
   "outputs": [],
   "source": [
    "import pandas as pd\n",
    "from sklearn.preprocessing import MinMaxScaler\n",
    "\n",
    "# Create a simple DataFrame to clearly see the effect\n",
    "data = {'Value': [10, 20, 50, 100, 5]}\n",
    "df_simple = pd.DataFrame(data)\n",
    "df_simple"
   ]
  },
  {
   "cell_type": "markdown",
   "metadata": {},
   "source": [
    "### 3. The Normalization Process\n",
    "\n",
    "The formula for Min-Max scaling is: `(x - min(x)) / (max(x) - min(x))`\n",
    "\n",
    "This formula guarantees that the new minimum value of the column will be 0 and the new maximum value will be 1."
   ]
  },
  {
   "cell_type": "markdown",
   "metadata": {},
   "source": [
    "#### Step 1: Initialize the Scaler\n",
    "\n",
    "We create an instance of the `MinMaxScaler` object."
   ]
  },
  {
   "cell_type": "code",
   "execution_count": null,
   "metadata": {},
   "outputs": [],
   "source": [
    "scaler = MinMaxScaler()"
   ]
  },
  {
   "cell_type": "markdown",
   "metadata": {},
   "source": [
    "#### Step 2: Fit and Transform the Data\n",
    "\n",
    "The `fit_transform` method does two things:\n",
    "1.  **`fit`**: It looks at the data to learn the parameters it needs (in this case, the minimum and maximum values).\n",
    "2.  **`transform`**: It applies the scaling formula to the data.\n",
    "\n",
    "**Important:** The scaler expects the data in a 2D format, so we pass our column inside double square brackets `[['Value']]`."
   ]
  },
  {
   "cell_type": "code",
   "execution_count": null,
   "metadata": {},
   "outputs": [],
   "source": [
    "scaled_values = scaler.fit_transform(df_simple[['Value']])\n",
    "print(scaled_values)"
   ]
  },
  {
   "cell_type": "markdown",
   "metadata": {},
   "source": [
    "The result is a NumPy array. Let's add it back to our DataFrame to see it clearly."
   ]
  },
  {
   "cell_type": "code",
   "execution_count": null,
   "metadata": {},
   "outputs": [],
   "source": [
    "df_simple['Value_Normalized'] = scaled_values\n",
    "df_simple"
   ]
  },
  {
   "cell_type": "markdown",
   "metadata": {},
   "source": [
    "**Interpretation:**\n",
    "*   The smallest original value (5) is now 0.\n",
    "*   The largest original value (100) is now 1.\n",
    "*   All other values are scaled proportionally between 0 and 1."
   ]
  },
  {
   "cell_type": "markdown",
   "metadata": {},
   "source": [
    "### 4. Application to the Telco Dataset\n",
    "\n",
    "Let's apply this to the numerical columns in our Telco dataset."
   ]
  },
  {
   "cell_type": "code",
   "execution_count": null,
   "metadata": {},
   "outputs": [],
   "source": [
    "# Load the data\n",
    "url = 'https://raw.githubusercontent.com/IBM/telco-customer-churn-on-icp4d/master/data/Telco-Customer-Churn.csv'\n",
    "df = pd.read_csv(url)\n",
    "\n",
    "# Select only the numerical columns we want to scale\n",
    "numerical_cols = ['tenure', 'MonthlyCharges'] # We'll ignore TotalCharges for simplicity\n",
    "df_numerical = df[numerical_cols]\n",
    "\n",
    "# Initialize a new scaler\n",
    "telco_scaler = MinMaxScaler()\n",
    "\n",
    "# Fit and transform\n",
    "df_scaled = telco_scaler.fit_transform(df_numerical)\n",
    "\n",
    "# The output is a NumPy array, let's convert it to a DataFrame to view it\n",
    "df_scaled = pd.DataFrame(df_scaled, columns=['tenure_scaled', 'MonthlyCharges_scaled'])\n",
    "\n",
    "df_scaled.head()"
   ]
  },
  {
   "cell_type": "code",
   "execution_count": null,
   "metadata": {},
   "outputs": [],
   "source": [
    "# Let's check the min and max of the new scaled columns\n",
    "df_scaled.describe()"
   ]
  },
  {
   "cell_type": "markdown",
   "metadata": {},
   "source": [
    "As expected, the `min` for both scaled columns is 0 and the `max` is 1."
   ]
  },
  {
   "cell_type": "markdown",
   "metadata": {},
   "source": [
    "### 5. Conclusion\n",
    "\n",
    "In this session, you learned about Normalization (Min-Max Scaling):\n",
    "1.  Understand its purpose: to scale data to a fixed range (0-1) for machine learning algorithms.\n",
    "2.  Use the `MinMaxScaler` from Scikit-learn.\n",
    "3.  Follow the `initialize -> fit_transform` process.\n",
    "4.  Successfully apply the technique to a real-world dataset.\n",
    "\n",
    "**Next Session:** We will learn about another, very similar, data scaling technique called Standardization."
   ]
  }
 ],
 "metadata": {
  "kernelspec": {
   "display_name": "Python 3",
   "language": "python",
   "name": "python3"
  },
  "language_info": {
   "codemirror_mode": {
    "name": "ipython",
    "version": 3
   },
   "file_extension": ".py",
   "mimetype": "text/x-python",
   "name": "python",
   "nbconvert_exporter": "python",
   "pygments_lexer": "ipython3",
   "version": "3.8.8"
  }
 },
 "nbformat": 4,
 "nbformat_minor": 4
}