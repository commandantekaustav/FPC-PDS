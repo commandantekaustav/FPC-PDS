{
 "cells": [
  {
   "cell_type": "markdown",
   "metadata": {},
   "source": [
    "# Session 34: Data Transformation (Standardization)\n",
    "\n",
    "**Unit 3: Data Collection and Cleaning**\n",
    "**Hour: 34**\n",
    "**Mode: Practical Lab**\n",
    "\n",
    "---\n",
    "\n",
    "### 1. Objective\n",
    "\n",
    "This lab introduces another crucial data transformation technique: **Standardization** (or Z-score scaling).\n",
    "\n",
    "**What is Standardization?** It is the process of rescaling data to have a **mean of 0** and a **standard deviation of 1**.\n",
    "\n",
    "**Normalization vs. Standardization:**\n",
    "*   **Normalization (0 to 1):** Good when your data has a clear minimum and maximum or when you need data in a bounded range. It is sensitive to outliers.\n",
    "*   **Standardization (Mean=0, Std=1):** Works well when your data is roughly normally distributed (bell-shaped). It is less affected by outliers than normalization. In practice, standardization is often used more frequently."
   ]
  },
  {
   "cell_type": "markdown",
   "metadata": {},
   "source": [
    "### 2. Setup\n",
    "\n",
    "We need Pandas and the `StandardScaler` from Scikit-learn."
   ]
  },
  {
   "cell_type": "code",
   "execution_count": null,
   "metadata": {},
   "outputs": [],
   "source": [
    "import pandas as pd\n",
    "from sklearn.preprocessing import StandardScaler\n",
    "\n",
    "# Create a simple DataFrame\n",
    "data = {'Value': [10, 20, 50, 100, 5]}\n",
    "df_simple = pd.DataFrame(data)"
   ]
  },
  {
   "cell_type": "markdown",
   "metadata": {},
   "source": [
    "### 3. The Standardization Process\n",
    "\n",
    "The formula for Standardization is: `(x - mean(x)) / std(x)`"
   ]
  },
  {
   "cell_type": "markdown",
   "metadata": {},
   "source": [
    "#### Step 1: Initialize the Scaler\n",
    "\n",
    "We create an instance of the `StandardScaler` object."
   ]
  },
  {
   "cell_type": "code",
   "execution_count": null,
   "metadata": {},
   "outputs": [],
   "source": [
    "scaler = StandardScaler()"
   ]
  },
  {
   "cell_type": "markdown",
   "metadata": {},
   "source": [
    "#### Step 2: Fit and Transform the Data\n",
    "\n",
    "The process is identical to `MinMaxScaler`. The `fit_transform` method learns the mean and standard deviation and then applies the transformation."
   ]
  },
  {
   "cell_type": "code",
   "execution_count": null,
   "metadata": {},
   "outputs": [],
   "source": [
    "scaled_values = scaler.fit_transform(df_simple[['Value']])\n",
    "\n",
    "df_simple['Value_Standardized'] = scaled_values\n",
    "df_simple"
   ]
  },
  {
   "cell_type": "markdown",
   "metadata": {},
   "source": [
    "**Interpretation:**\n",
    "*   Values below the original mean are now negative.\n",
    "*   Values above the original mean are now positive.\n",
    "*   The magnitude of the number represents how many standard deviations it is from the mean."
   ]
  },
  {
   "cell_type": "markdown",
   "metadata": {},
   "source": [
    "#### Step 3: Verify the Result\n",
    "\n",
    "Let's check the mean and standard deviation of our new standardized column. The mean should be very close to 0, and the standard deviation should be very close to 1."
   ]
  },
  {
   "cell_type": "code",
   "execution_count": null,
   "metadata": {},
   "outputs": [],
   "source": [
    "mean = df_simple['Value_Standardized'].mean()\n",
    "std_dev = df_simple['Value_Standardized'].std()\n",
    "\n",
    "print(f\"New Mean: {mean:.2f}\") # The result is a very small number, effectively zero\n",
    "print(f\"New Standard Deviation: {std_dev:.2f}\")"
   ]
  },
  {
   "cell_type": "markdown",
   "metadata": {},
   "source": [
    "### 4. Application to the Telco Dataset\n",
    "\n",
    "Let's apply standardization to the numerical columns in our Telco dataset."
   ]
  },
  {
   "cell_type": "code",
   "execution_count": null,
   "metadata": {},
   "outputs": [],
   "source": [
    "# Load the data\n",
    "url = 'https://raw.githubusercontent.com/IBM/telco-customer-churn-on-icp4d/master/data/Telco-Customer-Churn.csv'\n",
    "df = pd.read_csv(url)\n",
    "\n",
    "# Select only the numerical columns we want to scale\n",
    "numerical_cols = ['tenure', 'MonthlyCharges']\n",
    "df_numerical = df[numerical_cols]\n",
    "\n",
    "# Initialize a new scaler\n",
    "telco_scaler = StandardScaler()\n",
    "\n",
    "# Fit and transform\n",
    "df_scaled = telco_scaler.fit_transform(df_numerical)\n",
    "\n",
    "# Convert back to a DataFrame to view it\n",
    "df_scaled = pd.DataFrame(df_scaled, columns=['tenure_scaled', 'MonthlyCharges_scaled'])\n",
    "\n",
    "df_scaled.head()"
   ]
  },
  {
   "cell_type": "code",
   "execution_count": null,
   "metadata": {},
   "outputs": [],
   "source": [
    "# Let's check the mean and std dev of the new scaled columns\n",
    "df_scaled.describe()"
   ]
  },
  {
   "cell_type": "markdown",
   "metadata": {},
   "source": [
    "**Interpretation:** Looking at the `describe()` output, we can see the `mean` for both scaled columns is effectively zero, and the `std` (standard deviation) is 1.0, confirming the transformation was successful."
   ]
  },
  {
   "cell_type": "markdown",
   "metadata": {},
   "source": [
    "### 5. Conclusion\n",
    "\n",
    "In this session, you learned about Standardization (Z-score Scaling):\n",
    "1.  Understand its purpose: to rescale data to have a mean of 0 and a standard deviation of 1.\n",
    "2.  Recognize when to use it versus Normalization.\n",
    "3.  Use the `StandardScaler` from Scikit-learn.\n",
    "4.  Verify the transformation by checking the new mean and standard deviation.\n",
    "\n",
    "Scaling your data is a vital preprocessing step for many machine learning models.\n",
    "\n",
    "**Next Session:** We will learn about another important data preparation technique: Feature Engineering."
   ]
  }
 ],
 "metadata": {
  "kernelspec": {
   "display_name": "Python 3",
   "language": "python",
   "name": "python3"
  },
  "language_info": {
   "codemirror_mode": {
    "name": "ipython",
    "version": 3
   },
   "file_extension": ".py",
   "mimetype": "text/x-python",
   "name": "python",
   "nbconvert_exporter": "python",
   "pygments_lexer": "ipython3",
   "version": "3.8.8"
  }
 },
 "nbformat": 4,
 "nbformat_minor": 4
}