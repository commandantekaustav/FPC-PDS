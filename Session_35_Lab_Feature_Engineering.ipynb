{
 "cells": [
  {
   "cell_type": "markdown",
   "metadata": {},
   "source": [
    "# Session 35: Introduction to Feature Engineering\n",
    "\n",
    "**Unit 3: Data Collection and Cleaning**\n",
    "**Hour: 35**\n",
    "**Mode: Practical Lab**\n",
    "\n",
    "---\n",
    "\n",
    "### 1. Objective\n",
    "\n",
    "This lab introduces **Feature Engineering**, which is often described as the most creative part of the machine learning workflow. Our goal is to create new, more informative features from the existing data in our Telco dataset.\n",
    "\n",
    "**What is Feature Engineering?** The process of using domain knowledge to create new input variables (features) for your machine learning model. Better features often lead to better model performance more than a better algorithm does."
   ]
  },
  {
   "cell_type": "markdown",
   "metadata": {},
   "source": [
    "### 2. Setup\n",
    "\n",
    "Let's load our Telco dataset."
   ]
  },
  {
   "cell_type": "code",
   "execution_count": null,
   "metadata": {},
   "outputs": [],
   "source": [
    "import pandas as pd\n",
    "\n",
    "url = 'https://raw.githubusercontent.com/IBM/telco-customer-churn-on-icp4d/master/data/Telco-Customer-Churn.csv'\n",
    "df = pd.read_csv(url)"
   ]
  },
  {
   "cell_type": "markdown",
   "metadata": {},
   "source": [
    "### 3. Feature Engineering Techniques\n",
    "\n",
    "#### 3.1. Creating Interaction Features\n",
    "\n",
    "Sometimes, the interaction between two variables is more powerful than the variables themselves.\n",
    "\n",
    "**Hypothesis:** The ratio of `MonthlyCharges` to `tenure` might indicate a customer's \"value sensitivity\". A high monthly charge for a new customer might be a high churn risk.\n",
    "\n",
    "Let's create a `ChargePerTenure` feature. We need to be careful about `tenure` being 0, so we'll add 1 to the denominator to avoid division by zero."
   ]
  },
  {
   "cell_type": "code",
   "execution_count": null,
   "metadata": {},
   "outputs": [],
   "source": [
    "df['ChargePerTenure'] = df['MonthlyCharges'] / (df['tenure'] + 1)\n",
    "\n",
    "# Check the new feature for a few customers\n",
    "df[['tenure', 'MonthlyCharges', 'ChargePerTenure']].head()"
   ]
  },
  {
   "cell_type": "markdown",
   "metadata": {},
   "source": [
    "#### 3.2. Binning Numerical Data\n",
    "\n",
    "Sometimes it's useful to group a continuous numerical variable into discrete bins. For example, we can convert `tenure` into categories like \"New Customer\", \"Medium-Term Customer\", and \"Long-Term Customer\".\n",
    "\n",
    "We can use the `pd.cut()` function for this."
   ]
  },
  {
   "cell_type": "code",
   "execution_count": null,
   "metadata": {},
   "outputs": [],
   "source": [
    "# Define the bin edges. -1 is used to include 0.\n",
    "bins = [-1, 12, 48, 73] # (0-12 months), (13-48 months), (49-72 months)\n",
    "labels = ['New Customer', 'Medium-Term Customer', 'Long-Term Customer']\n",
    "\n",
    "df['TenureGroup'] = pd.cut(df['tenure'], bins=bins, labels=labels)\n",
    "\n",
    "df[['tenure', 'TenureGroup']].head()"
   ]
  },
  {
   "cell_type": "code",
   "execution_count": null,
   "metadata": {},
   "outputs": [],
   "source": [
    "# Let's check the distribution of our new categorical feature\n",
    "df['TenureGroup'].value_counts()"
   ]
  },
  {
   "cell_type": "markdown",
   "metadata": {},
   "source": [
    "#### 3.3. Combining Categorical Features\n",
    "\n",
    "We can create a new feature that represents the total number of additional services a customer has. This could be a proxy for how \"invested\" they are in the ecosystem.\n",
    "\n",
    "Let's count how many of the following services each customer has: `OnlineSecurity`, `OnlineBackup`, `DeviceProtection`, `TechSupport`, `StreamingTV`, `StreamingMovies`."
   ]
  },
  {
   "cell_type": "code",
   "execution_count": null,
   "metadata": {},
   "outputs": [],
   "source": [
    "service_cols = [\n",
    "    'OnlineSecurity',\n",
    "    'OnlineBackup',\n",
    "    'DeviceProtection',\n",
    "    'TechSupport',\n",
    "    'StreamingTV',\n",
    "    'StreamingMovies'\n",
    "]\n",
    "\n",
    "# We can count the 'Yes' values across the rows for these columns\n",
    "# (df[service_cols] == 'Yes') creates a boolean DataFrame\n",
    "# .sum(axis=1) sums up the True values (which equal 1) across each row\n",
    "\n",
    "df['AdditionalServices'] = (df[service_cols] == 'Yes').sum(axis=1)\n",
    "\n",
    "df[['AdditionalServices'] + service_cols].head()"
   ]
  },
  {
   "cell_type": "markdown",
   "metadata": {},
   "source": [
    "### 4. Conclusion\n",
    "\n",
    "In this lab, you explored the creative process of feature engineering:\n",
    "1.  **Interaction Features:** Creating new features by combining existing numerical ones (e.g., ratios).\n",
    "2.  **Binning:** Converting a numerical feature into a categorical one to capture broader trends.\n",
    "3.  **Combining Categories:** Creating a numerical feature by counting occurrences across several categorical columns.\n",
    "\n",
    "Good feature engineering is often the key to building a high-performing and interpretable machine learning model. It bridges the gap between raw data and business insight.\n",
    "\n",
    "This session concludes our deep dive into data cleaning and transformation.\n",
    "\n",
    "**Next Session:** We will begin Unit 4 by discussing the core principles of effective data visualization."
   ]
  }
 ],
 "metadata": {
  "kernelspec": {
   "display_name": "Python 3",
   "language": "python",
   "name": "python3"
  },
  "language_info": {
   "codemirror_mode": {
    "name": "ipython",
    "version": 3
   },
   "file_extension": ".py",
   "mimetype": "text/x-python",
   "name": "python",
   "nbconvert_exporter": "python",
   "pygments_lexer": "ipython3",
   "version": "3.8.8"
  }
 },
 "nbformat": 4,
 "nbformat_minor": 4
}