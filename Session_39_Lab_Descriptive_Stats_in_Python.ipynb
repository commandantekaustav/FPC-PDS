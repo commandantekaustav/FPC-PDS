{
 "cells": [
  {
   "cell_type": "markdown",
   "metadata": {},
   "source": [
    "# Session 39: Descriptive Statistics in Python\n",
    "\n",
    "**Unit 4: Descriptive Statistics and Visualization**\n",
    "**Hour: 39**\n",
    "**Mode: Practical Lab**\n",
    "\n",
    "---\n",
    "\n",
    "### 1. Objective\n",
    "\n",
    "This lab applies the statistical theories we just learned. You will use the Pandas library to calculate the main measures of central tendency and dispersion for our clean Telco dataset."
   ]
  },
  {
   "cell_type": "markdown",
   "metadata": {},
   "source": [
    "### 2. Setup\n",
    "\n",
    "We will use the cleaned dataset we prepared at the end of Unit 3."
   ]
  },
  {
   "cell_type": "code",
   "execution_count": null,
   "metadata": {},
   "outputs": [],
   "source": [
    "import pandas as pd\n",
    "\n",
    "url = 'https://raw.githubusercontent.com/IBM/telco-customer-churn-on-icp4d/master/data/Telco-Customer-Churn.csv'\n",
    "df = pd.read_csv(url)\n",
    "\n",
    "# Perform the cleaning steps from Session 36\n",
    "df['TotalCharges'] = pd.to_numeric(df['TotalCharges'], errors='coerce')\n",
    "median_charges = df['TotalCharges'].median()\n",
    "df['TotalCharges'].fillna(median_charges, inplace=True)"
   ]
  },
  {
   "cell_type": "markdown",
   "metadata": {},
   "source": [
    "### 3. Calculating Statistics for Numerical Columns\n",
    "\n",
    "#### 3.1. The `.describe()` Method (Recap)\n",
    "\n",
    "The `.describe()` method is the fastest way to get a high-level summary of all numerical columns."
   ]
  },
  {
   "cell_type": "code",
   "execution_count": null,
   "metadata": {},
   "outputs": [],
   "source": [
    "df.describe()"
   ]
  },
  {
   "cell_type": "markdown",
   "metadata": {},
   "source": [
    "#### 3.2. Calculating Individual Statistics\n",
    "\n",
    "Pandas provides specific methods for each measure, which is useful when you only need one value."
   ]
  },
  {
   "cell_type": "code",
   "execution_count": null,
   "metadata": {},
   "outputs": [],
   "source": [
    "# Let's analyze the 'MonthlyCharges' column\n",
    "monthly_charges = df['MonthlyCharges']\n",
    "\n",
    "mean_charge = monthly_charges.mean()\n",
    "median_charge = monthly_charges.median()\n",
    "std_dev_charge = monthly_charges.std()\n",
    "\n",
    "print(f\"Mean Monthly Charge: ${mean_charge:.2f}\")\n",
    "print(f\"Median Monthly Charge: ${median_charge:.2f}\")\n",
    "print(f\"Standard Deviation of Monthly Charges: ${std_dev_charge:.2f}\")"
   ]
  },
  {
   "cell_type": "markdown",
   "metadata": {},
   "source": [
    "**Interpretation:** The mean (`$64.76`) is lower than the median (`$70.35`). This suggests the distribution of monthly charges might be slightly skewed, with a number of customers having very low charges (e.g., those with only phone service)."
   ]
  },
  {
   "cell_type": "markdown",
   "metadata": {},
   "source": [
    "### 4. Calculating Statistics for Categorical Columns\n",
    "\n",
    "The main descriptive statistic for categorical data is the mode."
   ]
  },
  {
   "cell_type": "code",
   "execution_count": null,
   "metadata": {},
   "outputs": [],
   "source": [
    "# Find the most common contract type\n",
    "mode_contract = df['Contract'].mode()[0] # .mode() returns a Series, so we take the first item\n",
    "print(f\"The most common contract type is: {mode_contract}\")"
   ]
  },
  {
   "cell_type": "markdown",
   "metadata": {},
   "source": [
    "For a more complete picture, we use `.value_counts()`."
   ]
  },
  {
   "cell_type": "code",
   "execution_count": null,
   "metadata": {},
   "outputs": [],
   "source": [
    "df['Contract'].value_counts()"
   ]
  },
  {
   "cell_type": "markdown",
   "metadata": {},
   "source": [
    "You can also use `.describe()` on a categorical column. It provides a different set of summary statistics."
   ]
  },
  {
   "cell_type": "code",
   "execution_count": null,
   "metadata": {},
   "outputs": [],
   "source": [
    "df['Contract'].describe()"
   ]
  },
  {
   "cell_type": "markdown",
   "metadata": {},
   "source": [
    "**Interpretation:**\n",
    "*   `count`: Total number of non-null entries.\n",
    "*   `unique`: The number of distinct categories (3 in this case).\n",
    "*   `top`: The most frequent category (the mode).\n",
    "*   `freq`: The frequency of the top category."
   ]
  },
  {
   "cell_type": "markdown",
   "metadata": {},
   "source": [
    "### 5. Conclusion\n",
    "\n",
    "In this lab, you learned how to translate statistical theory into practice using Pandas:\n",
    "1.  Use `.describe()` for a quick overview of all numerical columns.\n",
    "2.  Use specific methods like `.mean()`, `.median()`, and `.std()` to calculate individual statistics.\n",
    "3.  Use `.mode()` and `.value_counts()` to summarize categorical columns.\n",
    "\n",
    "These commands are fundamental to the **Explore** phase of any data science project.\n",
    "\n",
    "**Next Session:** We will learn how to calculate these statistics for different groups within our data using the powerful `.groupby()` method."
   ]
  }
 ],
 "metadata": {
  "kernelspec": {
   "display_name": "Python 3",
   "language": "python",
   "name": "python3"
  },
  "language_info": {
   "codemirror_mode": {
    "name": "ipython",
    "version": 3
   },
   "file_extension": ".py",
   "mimetype": "text/x-python",
   "name": "python",
   "nbconvert_exporter": "python",
   "pygments_lexer": "ipython3",
   "version": "3.8.8"
  }
 },
 "nbformat": 4,
 "nbformat_minor": 4
}