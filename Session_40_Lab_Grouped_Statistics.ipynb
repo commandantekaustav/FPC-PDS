{
 "cells": [
  {
   "cell_type": "markdown",
   "metadata": {},
   "source": [
    "# Session 40: Grouped Statistics with `.groupby()`\n",
    "\n",
    "**Unit 4: Descriptive Statistics and Visualization**\n",
    "**Hour: 40**\n",
    "**Mode: Practical Lab**\n",
    "\n",
    "---\n",
    "\n",
    "### 1. Objective\n",
    "\n",
    "This lab introduces one of the most powerful and important methods in Pandas: `.groupby()`. You will learn how to split your data into groups based on a category and then calculate statistics for each group independently. This is the programmatic equivalent of a PivotTable in Excel."
   ]
  },
  {
   "cell_type": "markdown",
   "metadata": {},
   "source": [
    "### 2. Setup\n",
    "\n",
    "We will use our clean Telco dataset."
   ]
  },
  {
   "cell_type": "code",
   "execution_count": null,
   "metadata": {},
   "outputs": [],
   "source": [
    "import pandas as pd\n",
    "\n",
    "url = 'https://raw.githubusercontent.com/IBM/telco-customer-churn-on-icp4d/master/data/Telco-Customer-Churn.csv'\n",
    "df = pd.read_csv(url)\n",
    "\n",
    "# Clean TotalCharges\n",
    "df['TotalCharges'] = pd.to_numeric(df['TotalCharges'], errors='coerce')\n",
    "df['TotalCharges'].fillna(df['TotalCharges'].median(), inplace=True)"
   ]
  },
  {
   "cell_type": "markdown",
   "metadata": {},
   "source": [
    "### 3. The GroupBy Logic: Split-Apply-Combine\n",
    "\n",
    "The `.groupby()` operation follows a three-step process:\n",
    "\n",
    "1.  **Split:** The data is split into groups based on some criteria (e.g., a categorical column like `Contract`).\n",
    "2.  **Apply:** A function is applied to each group independently (e.g., calculate the `mean()` of a numerical column).\n",
    "3.  **Combine:** The results of the function application are combined into a new data structure."
   ]
  },
  {
   "cell_type": "markdown",
   "metadata": {},
   "source": [
    "### 4. GroupBy in Action\n",
    "\n",
    "**Business Question:** \"What is the average tenure for customers who churned versus those who did not?\""
   ]
  },
  {
   "cell_type": "code",
   "execution_count": null,
   "metadata": {},
   "outputs": [],
   "source": [
    "# Step 1 (Split): Group the DataFrame by the 'Churn' column.\n",
    "# Step 2 (Select & Apply): Select the 'tenure' column and apply the .mean() function.\n",
    "# Step 3 (Combine): Pandas automatically combines the results into a new Series.\n",
    "\n",
    "df.groupby('Churn')['tenure'].mean()"
   ]
  },
  {
   "cell_type": "markdown",
   "metadata": {},
   "source": [
    "**Interpretation:** This is a powerful insight! Customers who churn have a much lower average tenure (around 18 months) compared to those who stay (around 37 months). This supports our original hypothesis and suggests that newer customers are a higher churn risk."
   ]
  },
  {
   "cell_type": "markdown",
   "metadata": {},
   "source": [
    "Let's try another one.\n",
    "\n",
    "**Business Question:** \"What are the median monthly charges for each contract type?\""
   ]
  },
  {
   "cell_type": "code",
   "execution_count": null,
   "metadata": {},
   "outputs": [],
   "source": [
    "df.groupby('Contract')['MonthlyCharges'].median()"
   ]
  },
  {
   "cell_type": "markdown",
   "metadata": {},
   "source": [
    "**Interpretation:** Customers on month-to-month contracts tend to have higher median monthly charges than those on two-year contracts."
   ]
  },
  {
   "cell_type": "markdown",
   "metadata": {},
   "source": [
    "### 5. Grouping by Multiple Columns\n",
    "\n",
    "You can also group by a list of columns to get a more granular breakdown."
   ]
  },
  {
   "cell_type": "code",
   "execution_count": null,
   "metadata": {},
   "outputs": [],
   "source": [
    "# Group by both InternetService and Churn\n",
    "# Calculate the average monthly charges for each subgroup\n",
    "df.groupby(['InternetService', 'Churn'])['MonthlyCharges'].mean()"
   ]
  },
  {
   "cell_type": "markdown",
   "metadata": {},
   "source": [
    "### 6. Using `.agg()` for Multiple Aggregations\n",
    "\n",
    "What if you want to calculate multiple statistics for a group at once? The `.agg()` method is perfect for this. You pass it a list of functions you want to apply."
   ]
  },
  {
   "cell_type": "code",
   "execution_count": null,
   "metadata": {},
   "outputs": [],
   "source": [
    "# For each contract type, calculate the mean, median, and std dev of tenure\n",
    "df.groupby('Contract')['tenure'].agg(['mean', 'median', 'std'])"
   ]
  },
  {
   "cell_type": "markdown",
   "metadata": {},
   "source": [
    "### 7. Conclusion\n",
    "\n",
    "In this lab, you learned how to use the powerful `.groupby()` method to perform grouped analysis:\n",
    "1.  Understand the **Split-Apply-Combine** logic.\n",
    "2.  Perform a simple groupby to calculate a single statistic for a single group.\n",
    "3.  Group by multiple columns for a more detailed breakdown.\n",
    "4.  Use `.agg()` to apply multiple functions at once for a comprehensive summary.\n",
    "\n",
    "`.groupby()` is a cornerstone of data exploration in Pandas and is essential for uncovering deep insights within your data.\n",
    "\n",
    "**Next Session:** We will start visualizing these insights by creating charts for single variables (univariate visualization)."
   ]
  }
 ],
 "metadata": {
  "kernelspec": {
   "display_name": "Python 3",
   "language": "python",
   "name": "python3"
  },
  "language_info": {
   "codemirror_mode": {
    "name": "ipython",
    "version": 3
   },
   "file_extension": ".py",
   "mimetype": "text/x-python",
   "name": "python",
   "nbconvert_exporter": "python",
   "pygments_lexer": "ipython3",
   "version": "3.8.8"
  }
 },
 "nbformat": 4,
 "nbformat_minor": 4
}