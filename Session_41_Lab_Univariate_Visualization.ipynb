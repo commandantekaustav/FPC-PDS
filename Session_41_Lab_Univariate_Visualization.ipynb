{
 "cells": [
  {
   "cell_type": "markdown",
   "metadata": {},
   "source": [
    "# Session 41: Univariate Visualization\n",
    "\n",
    "**Unit 4: Descriptive Statistics and Visualization**\n",
    "**Hour: 41**\n",
    "**Mode: Practical Lab**\n",
    "\n",
    "---\n",
    "\n",
    "### 1. Objective\n",
    "\n",
    "This lab is our first step into practical data visualization with Python. We will learn how to create charts for a **single variable** (univariate analysis) to understand its distribution.\n",
    "\n",
    "We will learn to create:\n",
    "*   **Histograms** for numerical data.\n",
    "*   **Box Plots** for numerical data.\n",
    "*   **Count Plots** (Bar Charts) for categorical data."
   ]
  },
  {
   "cell_type": "markdown",
   "metadata": {},
   "source": [
    "### 2. Setup\n",
    "\n",
    "We need Pandas for data handling, and **Matplotlib** and **Seaborn** for plotting. Seaborn is a library built on top of Matplotlib that makes creating beautiful statistical plots much easier."
   ]
  },
  {
   "cell_type": "code",
   "execution_count": null,
   "metadata": {},
   "outputs": [],
   "source": [
    "import pandas as pd\n",
    "import matplotlib.pyplot as plt\n",
    "import seaborn as sns\n",
    "\n",
    "# Load our clean Telco dataset\n",
    "url = 'https://raw.githubusercontent.com/IBM/telco-customer-churn-on-icp4d/master/data/Telco-Customer-Churn.csv'\n",
    "df = pd.read_csv(url)\n",
    "df['TotalCharges'] = pd.to_numeric(df['TotalCharges'], errors='coerce')\n",
    "df['TotalCharges'].fillna(df['TotalCharges'].median(), inplace=True)"
   ]
  },
  {
   "cell_type": "markdown",
   "metadata": {},
   "source": [
    "### 3. Visualizing Numerical Data\n",
    "\n",
    "Let's explore the distribution of the `MonthlyCharges` column."
   ]
  },
  {
   "cell_type": "markdown",
   "metadata": {},
   "source": [
    "#### 3.1. Histogram\n",
    "\n",
    "A histogram shows the frequency of values within specific bins."
   ]
  },
  {
   "cell_type": "code",
   "execution_count": null,
   "metadata": {},
   "outputs": [],
   "source": [
    "plt.figure(figsize=(10, 6)) # Set the figure size for better readability\n",
    "sns.histplot(df['MonthlyCharges'], kde=True) # kde=True adds a smooth density line\n",
    "plt.title('Distribution of Monthly Charges')\n",
    "plt.xlabel('Monthly Charges')\n",
    "plt.ylabel('Frequency')\n",
    "plt.show() # Display the plot"
   ]
  },
  {
   "cell_type": "markdown",
   "metadata": {},
   "source": [
    "**Interpretation:** The distribution is interesting. It's **bimodal**, meaning it has two peaks. There is a large peak for low monthly charges (around $20), and another, wider peak for higher charges (around $80-$100). This suggests there are two distinct groups of customers."
   ]
  },
  {
   "cell_type": "markdown",
   "metadata": {},
   "source": [
    "#### 3.2. Box Plot\n",
    "\n",
    "A box plot gives us a statistical summary of the distribution."
   ]
  },
  {
   "cell_type": "code",
   "execution_count": null,
   "metadata": {},
   "outputs": [],
   "source": [
    "plt.figure(figsize=(10, 4))\n",
    "sns.boxplot(x=df['MonthlyCharges'])\n",
    "plt.title('Box Plot of Monthly Charges')\n",
    "plt.xlabel('Monthly Charges')\n",
    "plt.show()"
   ]
  },
  {
   "cell_type": "markdown",
   "metadata": {},
   "source": [
    "**Interpretation:** The box plot clearly shows the median (the line inside the box), the interquartile range (the box itself), and the overall range of the data (the whiskers). As we discovered in our outliers lab, there are no points beyond the whiskers, indicating no outliers."
   ]
  },
  {
   "cell_type": "markdown",
   "metadata": {},
   "source": [
    "### 4. Visualizing Categorical Data\n",
    "\n",
    "#### 4.1. Count Plot (Bar Chart)\n",
    "\n",
    "A count plot is essentially a bar chart that shows the count of each category."
   ]
  },
  {
   "cell_type": "code",
   "execution_count": null,
   "metadata": {},
   "outputs": [],
   "source": [
    "plt.figure(figsize=(10, 6))\n",
    "sns.countplot(y=df['PaymentMethod']) # Using y= makes the bar chart horizontal\n",
    "plt.title('Count of Customers by Payment Method')\n",
    "plt.xlabel('Number of Customers')\n",
    "plt.ylabel('Payment Method')\n",
    "plt.show()"
   ]
  },
  {
   "cell_type": "markdown",
   "metadata": {},
   "source": [
    "**Interpretation:** 'Electronic check' is the most common payment method, while 'Mailed check' is the least common among the four options."
   ]
  },
  {
   "cell_type": "markdown",
   "metadata": {},
   "source": [
    "### 5. Conclusion\n",
    "\n",
    "In this lab, you learned to create the three most important univariate visualizations:\n",
    "1.  **Histogram:** To understand the shape and distribution of numerical data.\n",
    "2.  **Box Plot:** To see a statistical summary of numerical data and identify outliers.\n",
    "3.  **Count Plot:** To see the frequency of each category in categorical data.\n",
    "\n",
    "These plots are the foundation of Exploratory Data Analysis.\n",
    "\n",
    "**Next Session:** We will move on to bivariate visualization, where we will create charts that explore the relationship *between* two variables."
   ]
  }
 ],
 "metadata": {
  "kernelspec": {
   "display_name": "Python 3",
   "language": "python",
   "name": "python3"
  },
  "language_info": {
   "codemirror_mode": {
    "name": "ipython",
    "version": 3
   },
   "file_extension": ".py",
   "mimetype": "text/x-python",
   "name": "python",
   "nbconvert_exporter": "python",
   "pygments_lexer": "ipython3",
   "version": "3.8.8"
  }
 },
 "nbformat": 4,
 "nbformat_minor": 4
}