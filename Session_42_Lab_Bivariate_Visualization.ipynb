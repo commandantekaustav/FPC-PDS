{
 "cells": [
  {
   "cell_type": "markdown",
   "metadata": {},
   "source": [
    "# Session 42: Bivariate Visualization\n",
    "\n",
    "**Unit 4: Descriptive Statistics and Visualization**\n",
    "**Hour: 42**\n",
    "**Mode: Practical Lab**\n",
    "\n",
    "---\n",
    "\n",
    "### 1. Objective\n",
    "\n",
    "This lab focuses on exploring the relationship **between two variables** (bivariate analysis). This is where we can start to test the hypotheses we generated earlier in the course.\n",
    "\n",
    "We will learn to create:\n",
    "*   **Scatter Plots** to see the relationship between two numerical variables.\n",
    "*   **Bar Plots** to compare a numerical variable across different categories.\n",
    "*   **Box Plots (grouped)** to compare the distribution of a numerical variable across different categories."
   ]
  },
  {
   "cell_type": "markdown",
   "metadata": {},
   "source": [
    "### 2. Setup\n",
    "\n",
    "Import our standard libraries and load the clean Telco dataset."
   ]
  },
  {
   "cell_type": "code",
   "execution_count": null,
   "metadata": {},
   "outputs": [],
   "source": [
    "import pandas as pd\n",
    "import matplotlib.pyplot as plt\n",
    "import seaborn as sns\n",
    "\n",
    "url = 'https://raw.githubusercontent.com/IBM/telco-customer-churn-on-icp4d/master/data/Telco-Customer-Churn.csv'\n",
    "df = pd.read_csv(url)\n",
    "df['TotalCharges'] = pd.to_numeric(df['TotalCharges'], errors='coerce')\n",
    "df['TotalCharges'].fillna(df['TotalCharges'].median(), inplace=True)"
   ]
  },
  {
   "cell_type": "markdown",
   "metadata": {},
   "source": [
    "### 3. Visualizing Two Numerical Variables\n",
    "\n",
    "#### 3.1. Scatter Plot\n",
    "\n",
    "**Business Question:** \"Is there a relationship between `tenure` and `TotalCharges`?\""
   ]
  },
  {
   "cell_type": "code",
   "execution_count": null,
   "metadata": {},
   "outputs": [],
   "source": [
    "plt.figure(figsize=(10, 6))\n",
    "sns.scatterplot(x=df['tenure'], y=df['TotalCharges'])\n",
    "plt.title('Tenure vs. Total Charges')\n",
    "plt.xlabel('Tenure (months)')\n",
    "plt.ylabel('Total Charges')\n",
    "plt.show()"
   ]
  },
  {
   "cell_type": "markdown",
   "metadata": {},
   "source": [
    "**Interpretation:** There is a clear, strong positive correlation. As a customer's tenure increases, their total charges also increase, which makes perfect logical sense."
   ]
  },
  {
   "cell_type": "markdown",
   "metadata": {},
   "source": [
    "### 4. Visualizing a Numerical and a Categorical Variable\n",
    "\n",
    "This is a very common type of analysis."
   ]
  },
  {
   "cell_type": "markdown",
   "metadata": {},
   "source": [
    "#### 4.1. Bar Plot\n",
    "\n",
    "**Business Question:** \"What is the average `MonthlyCharges` for each `InternetService` type?\""
   ]
  },
  {
   "cell_type": "code",
   "execution_count": null,
   "metadata": {},
   "outputs": [],
   "source": [
    "plt.figure(figsize=(10, 6))\n",
    "sns.barplot(x=df['InternetService'], y=df['MonthlyCharges'])\n",
    "plt.title('Average Monthly Charges by Internet Service Type')\n",
    "plt.xlabel('Internet Service')\n",
    "plt.ylabel('Average Monthly Charges')\n",
    "plt.show()"
   ]
  },
  {
   "cell_type": "markdown",
   "metadata": {},
   "source": [
    "**Interpretation:** Customers with Fiber optic internet have significantly higher average monthly charges than those with DSL. Customers with no internet have very low charges, as expected."
   ]
  },
  {
   "cell_type": "markdown",
   "metadata": {},
   "source": [
    "#### 4.2. Grouped Box Plot\n",
    "\n",
    "**Business Question:** \"How does the distribution of `tenure` compare for customers who churn versus those who stay?\""
   ]
  },
  {
   "cell_type": "code",
   "execution_count": null,
   "metadata": {},
   "outputs": [],
   "source": [
    "plt.figure(figsize=(10, 6))\n",
    "sns.boxplot(x=df['Churn'], y=df['tenure'])\n",
    "plt.title('Distribution of Tenure by Churn Status')\n",
    "plt.xlabel('Churn')\n",
    "plt.ylabel('Tenure (months)')\n",
    "plt.show()"
   ]
  },
  {
   "cell_type": "markdown",
   "metadata": {},
   "source": [
    "**Interpretation:** This is a very insightful plot that confirms our `.groupby()` finding. The box for 'Yes' (churned customers) is much lower than the box for 'No'. The median tenure for churners is very low (around 10 months), while the median for non-churners is much higher (around 38 months). This is a strong indicator that tenure is a key predictor of churn."
   ]
  },
  {
   "cell_type": "markdown",
   "metadata": {},
   "source": [
    "### 5. Conclusion\n",
    "\n",
    "In this lab, you learned to visualize the relationship between two variables:\n",
    "1.  **Scatter Plot:** For visualizing two numerical variables.\n",
    "2.  **Bar Plot:** For comparing an aggregated numerical value across different categories.\n",
    "3.  **Grouped Box Plot:** For comparing the distribution of a numerical value across different categories.\n",
    "\n",
    "These bivariate plots are essential for testing hypotheses and finding the key drivers in your data.\n",
    "\n",
    "**Next Session:** We will practice these skills further by creating a more advanced dashboard-style visualization."
   ]
  }
 ],
 "metadata": {
  "kernelspec": {
   "display_name": "Python 3",
   "language": "python",
   "name": "python3"
  },
  "language_info": {
   "codemirror_mode": {
    "name": "ipython",
    "version": 3
   },
   "file_extension": ".py",
   "mimetype": "text/x-python",
   "name": "python",
   "nbconvert_exporter": "python",
   "pygments_lexer": "ipython3",
   "version": "3.8.8"
  }
 },
 "nbformat": 4,
 "nbformat_minor": 4
}