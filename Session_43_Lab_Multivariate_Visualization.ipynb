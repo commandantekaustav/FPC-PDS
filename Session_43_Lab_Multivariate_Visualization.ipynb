{
 "cells": [
  {
   "cell_type": "markdown",
   "metadata": {},
   "source": [
    "# Session 43: Multivariate Visualization\n",
    "\n",
    "**Unit 4: Descriptive Statistics and Visualization**\n",
    "**Hour: 43**\n",
    "**Mode: Practical Lab**\n",
    "\n",
    "---\n",
    "\n",
    "### 1. Objective\n",
    "\n",
    "This lab elevates our visualization skills by introducing a third variable into our plots. This is called **multivariate analysis**. We will learn how to use visual properties like `hue` (color) and `style` to encode more information into a single chart, allowing us to uncover deeper, more complex relationships.\n",
    "\n",
    "We will focus on adding a categorical third variable to our bivariate plots."
   ]
  },
  {
   "cell_type": "markdown",
   "metadata": {},
   "source": [
    "### 2. Setup\n",
    "\n",
    "Import our standard libraries and load the clean Telco dataset."
   ]
  },
  {
   "cell_type": "code",
   "execution_count": null,
   "metadata": {},
   "outputs": [],
   "source": [
    "import pandas as pd\n",
    "import matplotlib.pyplot as plt\n",
    "import seaborn as sns\n",
    "\n",
    "url = 'https://raw.githubusercontent.com/IBM/telco-customer-churn-on-icp4d/master/data/Telco-Customer-Churn.csv'\n",
    "df = pd.read_csv(url)\n",
    "df['TotalCharges'] = pd.to_numeric(df['TotalCharges'], errors='coerce')\n",
    "df['TotalCharges'].fillna(df['TotalCharges'].median(), inplace=True)"
   ]
  },
  {
   "cell_type": "markdown",
   "metadata": {},
   "source": [
    "### 3. Adding a Third Variable (`hue`)\n",
    "\n",
    "The `hue` parameter in Seaborn is the most common way to add a third, categorical dimension to a plot. It will color the data points or bars based on the categories in the specified column."
   ]
  },
  {
   "cell_type": "markdown",
   "metadata": {},
   "source": [
    "#### 3.1. Hue on a Scatter Plot\n",
    "\n",
    "**Business Question:** We already know there's a relationship between `tenure` and `TotalCharges`. But does this relationship differ depending on the `Contract` type?"
   ]
  },
  {
   "cell_type": "code",
   "execution_count": null,
   "metadata": {},
   "outputs": [],
   "source": [
    "plt.figure(figsize=(12, 7))\n",
    "sns.scatterplot(x=df['tenure'], y=df['TotalCharges'], hue=df['Contract'])\n",
    "plt.title('Tenure vs. Total Charges, Colored by Contract Type')\n",
    "plt.xlabel('Tenure (months)')\n",
    "plt.ylabel('Total Charges')\n",
    "plt.show()"
   ]
  },
  {
   "cell_type": "markdown",
   "metadata": {},
   "source": [
    "**Interpretation:** This is incredibly insightful!\n",
    "*   The `Month-to-month` customers (blue) are spread all over, but many have low tenure.\n",
    "*   The `One year` customers (orange) form a steeper line in the middle.\n",
    "*   The `Two year` customers (green) form a very clear, steep line, showing that long-term customers on this contract consistently accumulate high total charges. This visual clearly separates the customer segments."
   ]
  },
  {
   "cell_type": "markdown",
   "metadata": {},
   "source": [
    "#### 3.2. Hue on a Bar Plot\n",
    "\n",
    "**Business Question:** We know that customers with Fiber optic have higher average monthly charges. But within each internet service type, who pays more: those with dependents or those without?"
   ]
  },
  {
   "cell_type": "code",
   "execution_count": null,
   "metadata": {},
   "outputs": [],
   "source": [
    "plt.figure(figsize=(10, 6))\n",
    "sns.barplot(x=df['InternetService'], y=df['MonthlyCharges'], hue=df['Dependents'])\n",
    "plt.title('Avg. Monthly Charges by Internet Service and Dependents')\n",
    "plt.xlabel('Internet Service')\n",
    "plt.ylabel('Average Monthly Charges')\n",
    "plt.show()"
   ]
  },
  {
   "cell_type": "markdown",
   "metadata": {},
   "source": [
    "**Interpretation:** In both DSL and Fiber optic categories, customers **without** dependents tend to have slightly higher average monthly charges than those with dependents."
   ]
  },
  {
   "cell_type": "markdown",
   "metadata": {},
   "source": [
    "### 4. Advanced Grouped Visualization with `catplot`\n",
    "\n",
    "Seaborn's `catplot` (Categorical Plot) is a powerful function that lets you create faceted plots. You can create subplots for each category of a variable.\n",
    "\n",
    "**Business Question:** We know churners have lower tenure. But is this pattern consistent across different contract types?"
   ]
  },
  {
   "cell_type": "code",
   "execution_count": null,
   "metadata": {},
   "outputs": [],
   "source": [
    "# Use 'col' to create columns of subplots for each Contract type\n",
    "sns.catplot(x='Churn', y='tenure', col='Contract', data=df, kind='box')\n",
    "plt.show()"
   ]
  },
  {
   "cell_type": "markdown",
   "metadata": {},
   "source": [
    "**Interpretation:** This gives us a much deeper understanding. The difference in tenure between churners and non-churners is **most dramatic** for customers on One year and Two year contracts. For Month-to-month customers, the tenure for both groups is already low, but the difference is still very clear."
   ]
  },
  {
   "cell_type": "markdown",
   "metadata": {},
   "source": [
    "### 5. Conclusion\n",
    "\n",
    "In this lab, you learned to add a third dimension to your visualizations to uncover more nuanced insights:\n",
    "1.  Use the `hue` parameter to color data points based on a categorical variable.\n",
    "2.  Apply `hue` to both scatter plots and bar plots to segment your analysis.\n",
    "3.  Use `catplot` to create faceted plots, which are excellent for comparing distributions across multiple categories at once.\n",
    "\n",
    "These techniques move you from simple reporting to true exploratory data analysis.\n",
    "\n",
    "**Next Session:** We will learn how to combine multiple plots and use annotations to tell a compelling story about our findings."
   ]
  }
 ],
 "metadata": {
  "kernelspec": {
   "display_name": "Python 3",
   "language": "python",
   "name": "python3"
  },
  "language_info": {
   "codemirror_mode": {
    "name": "ipython",
    "version": 3
   },
   "file_extension": ".py",
   "mimetype": "text/x-python",
   "name": "python",
   "nbconvert_exporter": "python",
   "pygments_lexer": "ipython3",
   "version": "3.8.8"
  }
 },
 "nbformat": 4,
 "nbformat_minor": 4
}