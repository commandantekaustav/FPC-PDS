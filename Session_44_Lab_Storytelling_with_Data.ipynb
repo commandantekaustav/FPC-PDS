{
 "cells": [
  {
   "cell_type": "markdown",
   "metadata": {},
   "source": [
    "# Session 44: Storytelling with Data\n",
    "\n",
    "**Unit 4: Descriptive Statistics and Visualization**\n",
    "**Hour: 44**\n",
    "**Mode: Practical Lab**\n",
    "\n",
    "---\n",
    "\n",
    "### 1. Objective\n",
    "\n",
    "This lab focuses on the **\"iNterpret\"** part of the workflow. The goal is not just to create a chart, but to create a chart that tells a clear and compelling story. We will apply the design principles we learned in theory to a real visualization.\n",
    "\n",
    "**Our Story:** We want to convince a business manager that `Month-to-month` contracts are the single biggest driver of customer churn."
   ]
  },
  {
   "cell_type": "markdown",
   "metadata": {},
   "source": [
    "### 2. Setup\n",
    "\n",
    "Import libraries and load the clean Telco dataset."
   ]
  },
  {
   "cell_type": "code",
   "execution_count": null,
   "metadata": {},
   "outputs": [],
   "source": [
    "import pandas as pd\n",
    "import matplotlib.pyplot as plt\n",
    "import seaborn as sns\n",
    "\n",
    "url = 'https://raw.githubusercontent.com/IBM/telco-customer-churn-on-icp4d/master/data/Telco-Customer-Churn.csv'\n",
    "df = pd.read_csv(url)\n"
   ]
  },
  {
   "cell_type": "markdown",
   "metadata": {},
   "source": [
    "### 3. Step 1: Prepare the Data\n",
    "\n",
    "First, we need to calculate the data we want to plot. We want to show the number of churned customers for each contract type."
   ]
  },
  {
   "cell_type": "code",
   "execution_count": null,
   "metadata": {},
   "outputs": [],
   "source": [
    "# Filter for only the customers who churned\n",
    "churned_df = df[df['Churn'] == 'Yes']\n",
    "\n",
    "# Get the counts for each contract type\n",
    "churn_by_contract = churned_df['Contract'].value_counts().reset_index()\n",
    "churn_by_contract.columns = ['Contract', 'ChurnCount']\n",
    "\n",
    "print(churn_by_contract)"
   ]
  },
  {
   "cell_type": "markdown",
   "metadata": {},
   "source": [
    "The data is clear: an overwhelming majority of churners (1655 out of ~1869) were on a month-to-month contract. Now let's visualize this."
   ]
  },
  {
   "cell_type": "markdown",
   "metadata": {},
   "source": [
    "### 4. Creating the Storytelling Visualization\n",
    "\n",
    "We will build our plot layer by layer, applying the design principles."
   ]
  },
  {
   "cell_type": "code",
   "execution_count": null,
   "metadata": {},
   "outputs": [],
   "source": [
    "# Set a clean style\n",
    "sns.set_style(\"whitegrid\")\n",
    "\n",
    "# Create the figure and axes\n",
    "plt.figure(figsize=(10, 6))\n",
    "\n",
    "# Principle 1: Use Color with Purpose. \n",
    "# We want to highlight 'Month-to-month', so we create a color palette.\n",
    "colors = ['red' if x == 'Month-to-month' else 'grey' for x in churn_by_contract['Contract']]\n",
    "\n",
    "# Create the bar plot\n",
    "ax = sns.barplot(x='Contract', y='ChurnCount', data=churn_by_contract, palette=colors)\n",
    "\n",
    "# Principle 2: Eliminate Clutter\n",
    "ax.spines['top'].set_visible(False)\n",
    "ax.spines['right'].set_visible(False)\n",
    "ax.get_yaxis().set_visible(False) # Remove y-axis as we will label directly\n",
    "\n",
    "# Principle 3: Label Directly\n",
    "for p in ax.patches:\n",
    "    ax.annotate(f'{int(p.get_height())}', # The number to display\n",
    "                (p.get_x() + p.get_width() / 2., p.get_height()), # The position\n",
    "                ha = 'center', va = 'center', \n",
    "                xytext = (0, 10), \n",
    "                textcoords = 'offset points',\n",
    "                fontsize=14)\n",
    "\n",
    "# Principle 4: Use a powerful title and subtitle to tell the story\n",
    "plt.suptitle('Month-to-Month Contracts are the BIGGEST Driver of Churn',\n",
    "             fontsize=18, weight='bold', color='#333333')\n",
    "plt.title('88% of all churned customers were on a month-to-month plan.',\n",
    "          fontsize=14, color='grey')\n",
    "\n",
    "# Clean up axis labels\n",
    "plt.xlabel('Contract Type', fontsize=12)\n",
    "plt.ylabel('') # We removed the axis, so no label needed\n",
    "\n",
    "plt.show()"
   ]
  },
  {
   "cell_type": "markdown",
   "metadata": {},
   "source": [
    "### 5. Conclusion\n",
    "\n",
    "Compare the final chart to a default bar chart. The storytelling version is far more effective. It doesn't just *show* the data; it *explains* it.\n",
    "\n",
    "In this lab, you learned to:\n",
    "1.  Prepare a specific subset of data for a targeted visualization.\n",
    "2.  Apply design principles to create a chart that tells a story.\n",
    "3.  Use color strategically to focus audience attention.\n",
    "4.  Add direct labels to improve clarity.\n",
    "5.  Write assertive titles and subtitles that communicate your main message.\n",
    "\n",
    "This is a crucial skill for transforming your analysis into business impact.\n",
    "\n",
    "**Next Session:** We will learn how to combine multiple plots like this into a single dashboard view using Python."
   ]
  }
 ],
 "metadata": {
  "kernelspec": {
   "display_name": "Python 3",
   "language": "python",
   "name": "python3"
  },
  "language_info": {
   "codemirror_mode": {
    "name": "ipython",
    "version": 3
   },
   "file_extension": ".py",
   "mimetype": "text/x-python",
   "name": "python",
   "nbconvert_exporter": "python",
   "pygments_lexer": "ipython3",
   "version": "3.8.8"
  }
 },
 "nbformat": 4,
 "nbformat_minor": 4
}