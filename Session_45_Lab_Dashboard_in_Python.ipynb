{
 "cells": [
  {
   "cell_type": "markdown",
   "metadata": {},
   "source": [
    "# Session 45: Creating a Dashboard in Python\n",
    "\n",
    "**Unit 4: Descriptive Statistics and Visualization**\n",
    "**Hour: 45**\n",
    "**Mode: Practical Lab**\n",
    "\n",
    "---\n",
    "\n",
    "### 1. Objective\n",
    "\n",
    "This lab introduces the concept of creating a multi-plot dashboard directly within Python. This is useful for creating static reports that present several key insights together. We will use Matplotlib's `subplots` functionality to arrange multiple charts in a single figure."
   ]
  },
  {
   "cell_type": "markdown",
   "metadata": {},
   "source": [
    "### 2. Setup\n",
    "\n",
    "Import libraries and load the clean Telco dataset."
   ]
  },
  {
   "cell_type": "code",
   "execution_count": null,
   "metadata": {},
   "outputs": [],
   "source": [
    "import pandas as pd\n",
    "import matplotlib.pyplot as plt\n",
    "import seaborn as sns\n",
    "\n",
    "url = 'https://raw.githubusercontent.com/IBM/telco-customer-churn-on-icp4d/master/data/Telco-Customer-Churn.csv'\n",
    "df = pd.read_csv(url)\n",
    "df['TotalCharges'] = pd.to_numeric(df['TotalCharges'], errors='coerce')\n",
    "df['TotalCharges'].fillna(df['TotalCharges'].median(), inplace=True)"
   ]
  },
  {
   "cell_type": "markdown",
   "metadata": {},
   "source": [
    "### 3. Understanding `plt.subplots()`\n",
    "\n",
    "The `plt.subplots(nrows, ncols, figsize)` function is the standard way to create a grid of plots.\n",
    "*   It returns two things: a **`figure`** object (the entire canvas) and an **`axes`** object (or an array of them).\n",
    "*   Each `ax` in the `axes` array represents one of the subplots, and you can tell Seaborn exactly which subplot to draw on by passing the `ax` object to the `ax=` parameter in your plotting function."
   ]
  },
  {
   "cell_type": "markdown",
   "metadata": {},
   "source": [
    "### 4. Building a 1x2 Dashboard\n",
    "\n",
    "Let's create a dashboard with two key charts side-by-side:\n",
    "1.  A count plot of Churn status.\n",
    "2.  A box plot showing the tenure distribution by Churn status."
   ]
  },
  {
   "cell_type": "code",
   "execution_count": null,
   "metadata": {},
   "outputs": [],
   "source": [
    "# Create a figure and a set of subplots (1 row, 2 columns)\n",
    "fig, axes = plt.subplots(1, 2, figsize=(14, 6))\n",
    "\n",
    "# --- Plot 1: Churn Count ---\n",
    "sns.countplot(x='Churn', data=df, ax=axes[0])\n",
    "axes[0].set_title('Overall Churn Distribution', fontsize=14)\n",
    "axes[0].set_xlabel('Churn Status')\n",
    "axes[0].set_ylabel('Number of Customers')\n",
    "\n",
    "# --- Plot 2: Tenure by Churn ---\n",
    "sns.boxplot(x='Churn', y='tenure', data=df, ax=axes[1])\n",
    "axes[1].set_title('Tenure Distribution by Churn Status', fontsize=14)\n",
    "axes[1].set_xlabel('Churn Status')\n",
    "axes[1].set_ylabel('Tenure (months)')\n",
    "\n",
    "# Add a main title for the whole figure\n",
    "fig.suptitle('Key Customer Churn Insights', fontsize=20, weight='bold')\n",
    "\n",
    "# Adjust layout to prevent titles from overlapping\n",
    "plt.tight_layout(rect=[0, 0, 1, 0.96]) # rect leaves space for suptitle\n",
    "\n",
    "plt.show()"
   ]
  },
  {
   "cell_type": "markdown",
   "metadata": {},
   "source": [
    "### 5. Building a 2x2 Dashboard\n",
    "\n",
    "Let's create a more complex dashboard with four plots."
   ]
  },
  {
   "cell_type": "code",
   "execution_count": null,
   "metadata": {},
   "outputs": [],
   "source": [
    "# Create a 2x2 grid of subplots\n",
    "fig, axes = plt.subplots(2, 2, figsize=(15, 12))\n",
    "\n",
    "# --- Plot 1 (top-left): Churn by Contract ---\n",
    "sns.countplot(x='Contract', hue='Churn', data=df, ax=axes[0, 0])\n",
    "axes[0, 0].set_title('Churn by Contract Type')\n",
    "\n",
    "# --- Plot 2 (top-right): Churn by Internet Service ---\n",
    "sns.countplot(x='InternetService', hue='Churn', data=df, ax=axes[0, 1])\n",
    "axes[0, 1].set_title('Churn by Internet Service')\n",
    "\n",
    "# --- Plot 3 (bottom-left): Tenure Distribution ---\n",
    "sns.histplot(data=df, x='tenure', hue='Churn', kde=True, ax=axes[1, 0])\n",
    "axes[1, 0].set_title('Tenure Distribution for Churn vs. No Churn')\n",
    "\n",
    "# --- Plot 4 (bottom-right): Monthly Charges Distribution ---\n",
    "sns.histplot(data=df, x='MonthlyCharges', hue='Churn', kde=True, ax=axes[1, 1])\n",
    "axes[1, 1].set_title('Monthly Charges for Churn vs. No Churn')\n",
    "\n",
    "# Main Title\n",
    "fig.suptitle('Comprehensive Churn Analysis Dashboard', fontsize=20, weight='bold')\n",
    "\n",
    "plt.tight_layout(rect=[0, 0, 1, 0.96])\n",
    "plt.show()"
   ]
  },
  {
   "cell_type": "markdown",
   "metadata": {},
   "source": [
    "### 6. Conclusion\n",
    "\n",
    "In this lab, you learned how to create static dashboards in Python:\n",
    "1.  Use `plt.subplots()` to create a grid for your charts.\n",
    "2.  Understand how to access the individual `axes` to place your plots.\n",
    "3.  Pass the specific `ax` object to the `ax=` parameter in Seaborn plot functions.\n",
    "4.  Add titles to both individual subplots and the main figure.\n",
    "\n",
    "This is a powerful skill for generating comprehensive visual reports directly from your analysis script.\n",
    "\n",
    "**Next Session:** We will recreate a similar dashboard using a BI tool to compare the experience and outcome."
   ]
  }
 ],
 "metadata": {
  "kernelspec": {
   "display_name": "Python 3",
   "language": "python",
   "name": "python3"
  },
  "language_info": {
   "codemirror_mode": {
    "name": "ipython",
    "version": 3
   },
   "file_extension": ".py",
   "mimetype": "text/x-python",
   "name": "python",
   "nbconvert_exporter": "python",
   "pygments_lexer": "ipython3",
   "version": "3.8.8"
  }
 },
 "nbformat": 4,
 "nbformat_minor": 4
}