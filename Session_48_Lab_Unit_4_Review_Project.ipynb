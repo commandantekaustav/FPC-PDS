{
 "cells": [
  {
   "cell_type": "markdown",
   "metadata": {},
   "source": [
    "# Session 48: Unit 4 Review (EDA Mini-Project)\n",
    "\n",
    "**Unit 4: Descriptive Statistics and Visualization**\n",
    "**Hour: 48**\n",
    "**Mode: Practical Lab**\n",
    "\n",
    "---\n",
    "\n",
    "### 1. Objective\n",
    "\n",
    "This lab is a mini-project designed to test and reinforce all the skills learned in Unit 4. You will be given a new, small dataset and a set of business questions. Your task is to use descriptive statistics and visualization techniques to answer these questions and summarize your findings."
   ]
  },
  {
   "cell_type": "markdown",
   "metadata": {},
   "source": [
    "### 2. The Dataset: Fictional Employee Data\n",
    "\n",
    "A company wants to understand its employee demographics and salary distributions. We have been given a small dataset to analyze."
   ]
  },
  {
   "cell_type": "code",
   "execution_count": null,
   "metadata": {},
   "outputs": [],
   "source": [
    "import pandas as pd\n",
    "import seaborn as sns\n",
    "import matplotlib.pyplot as plt\n",
    "\n",
    "data = {\n",
    "    'EmployeeID': range(1, 11),\n",
    "    'Department': ['Sales', 'IT', 'Marketing', 'IT', 'Sales', 'IT', 'Marketing', 'Sales', 'IT', 'Sales'],\n",
    "    'Age': [34, 28, 45, 32, 51, 29, 38, 42, 30, 25],\n",
    "    'Salary': [70000, 65000, 80000, 72000, 95000, 68000, 75000, 85000, 71000, 60000]\n",
    "}\n",
    "\n",
    "df = pd.DataFrame(data)"
   ]
  },
  {
   "cell_type": "markdown",
   "metadata": {},
   "source": [
    "### 3. Your Tasks\n",
    "\n",
    "For each business question below, write the Python code to generate the answer. The answer could be a number, a table, or a visualization."
   ]
  },
  {
   "cell_type": "markdown",
   "metadata": {},
   "source": [
    "#### Question 1: What is the overall average age and salary of the employees?\n",
    "\n",
    "*Hint: Use the `.describe()` method or individual methods like `.mean()`.*"
   ]
  },
  {
   "cell_type": "code",
   "execution_count": null,
   "metadata": {},
   "outputs": [],
   "source": [
    "# Your code here\n",
    "df[['Age', 'Salary']].describe()"
   ]
  },
  {
   "cell_type": "markdown",
   "metadata": {},
   "source": [
    "#### Question 2: How many employees are in each department?\n",
    "\n",
    "*Hint: Use `.value_counts()` on the `Department` column.*"
   ]
  },
  {
   "cell_type": "code",
   "execution_count": null,
   "metadata": {},
   "outputs": [],
   "source": [
    "# Your code here\n",
    "df['Department'].value_counts()"
   ]
  },
  {
   "cell_type": "markdown",
   "metadata": {},
   "source": [
    "#### Question 3: What is the average salary for each department?\n",
    "\n",
    "*Hint: Use `.groupby()` on `Department` and calculate the mean of `Salary`.*"
   ]
  },
  {
   "cell_type": "code",
   "execution_count": null,
   "metadata": {},
   "outputs": [],
   "source": [
    "# Your code here\n",
    "df.groupby('Department')['Salary'].mean()"
   ]
  },
  {
   "cell_type": "markdown",
   "metadata": {},
   "source": [
    "#### Question 4: Create a visualization that shows the distribution of employee ages.\n",
    "\n",
    "*Hint: A histogram (`sns.histplot`) is a great choice for this.*"
   ]
  },
  {
   "cell_type": "code",
   "execution_count": null,
   "metadata": {},
   "outputs": [],
   "source": [
    "# Your code here\n",
    "plt.figure(figsize=(8, 5))\n",
    "sns.histplot(df['Age'], bins=5, kde=True)\n",
    "plt.title('Distribution of Employee Ages')\n",
    "plt.show()"
   ]
  },
  {
   "cell_type": "markdown",
   "metadata": {},
   "source": [
    "#### Question 5: Create a visualization that compares the salary distributions across the different departments.\n",
    "\n",
    "*Hint: A grouped box plot (`sns.boxplot`) is perfect for this task.*"
   ]
  },
  {
   "cell_type": "code",
   "execution_count": null,
   "metadata": {},
   "outputs": [],
   "source": [
    "# Your code here\n",
    "plt.figure(figsize=(10, 6))\n",
    "sns.boxplot(x='Department', y='Salary', data=df)\n",
    "plt.title('Salary Distribution by Department')\n",
    "plt.show()"
   ]
  },
  {
   "cell_type": "markdown",
   "metadata": {},
   "source": [
    "### 4. Conclusion & Summary\n",
    "\n",
    "In this mini-project, you have performed a complete Exploratory Data Analysis from start to finish.\n",
    "\n",
    "**Summary of Findings:**\n",
    "*   The average employee age is ~35, and the average salary is $73,100.\n",
    "*   The IT and Sales departments have the most employees (4 each).\n",
    "*   The Sales department has the highest average salary, though the ranges are quite wide as seen in the box plot.\n",
    "\n",
    "This project solidifies your ability to use Python to derive and communicate insights from raw data. This concludes Unit 4.\n",
    "\n",
    "**Next Session:** We will begin our final unit, Unit 5, with an introduction to the exciting world of Predictive Analytics."
   ]
  }
 ],
 "metadata": {
  "kernelspec": {
   "display_name": "Python 3",
   "language": "python",
   "name": "python3"
  },
  "language_info": {
   "codemirror_mode": {
    "name": "ipython",
    "version": 3
   },
   "file_extension": ".py",
   "mimetype": "text/x-python",
   "name": "python",
   "nbconvert_exporter": "python",
   "pygments_lexer": "ipython3",
   "version": "3.8.8"
  }
 },
 "nbformat": 4,
 "nbformat_minor": 4
}