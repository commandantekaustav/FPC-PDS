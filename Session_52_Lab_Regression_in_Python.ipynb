{
 "cells": [
  {
   "cell_type": "markdown",
   "metadata": {},
   "source": [
    "# Session 52: Linear Regression in Python\n",
    "\n",
    "**Unit 5: Basics of Predictive Analytics**\n",
    "**Hour: 52**\n",
    "**Mode: Practical Lab**\n",
    "\n",
    "---\n",
    "\n",
    "### 1. Objective\n",
    "\n",
    "This lab focuses on training a predictive model. We will build a **Linear Regression** model using Scikit-learn to solve the same problem we tackled in Excel: predicting a customer's `TotalCharges` based on their `tenure` and `MonthlyCharges`."
   ]
  },
  {
   "cell_type": "markdown",
   "metadata": {},
   "source": [
    "### 2. Setup\n",
    "\n",
    "We will perform a simplified data preparation workflow for this regression task."
   ]
  },
  {
   "cell_type": "code",
   "execution_count": null,
   "metadata": {},
   "outputs": [],
   "source": [
    "import pandas as pd\n",
    "from sklearn.model_selection import train_test_split\n",
    "from sklearn.linear_model import LinearRegression\n",
    "\n",
    "# Load and clean data\n",
    "url = 'https://raw.githubusercontent.com/IBM/telco-customer-churn-on-icp4d/master/data/Telco-Customer-Churn.csv'\n",
    "df = pd.read_csv(url)\n",
    "df['TotalCharges'] = pd.to_numeric(df['TotalCharges'], errors='coerce')\n",
    "df.dropna(inplace=True) # For simplicity, we drop the few missing rows\n",
    "\n",
    "# 1. Separate Features (X) and Target (y)\n",
    "X = df[['tenure', 'MonthlyCharges']]\n",
    "y = df['TotalCharges']\n",
    "\n",
    "# 2. Split Data\n",
    "X_train, X_test, y_train, y_test = train_test_split(X, y, test_size=0.2, random_state=42)"
   ]
  },
  {
   "cell_type": "markdown",
   "metadata": {},
   "source": [
    "### 3. The Scikit-learn Workflow: `fit` and `predict`\n",
    "\n",
    "Training a model in Scikit-learn follows a beautiful, consistent pattern for almost every algorithm:\n",
    "1.  **Initialize** the model.\n",
    "2.  **`fit`** the model to the training data (`X_train`, `y_train`). This is the \"learning\" step.\n",
    "3.  **`predict`** on new, unseen data (`X_test`). This is the \"testing\" step."
   ]
  },
  {
   "cell_type": "markdown",
   "metadata": {},
   "source": [
    "#### Step 1: Initialize the Model\n",
    "\n",
    "We create an instance of the `LinearRegression` class."
   ]
  },
  {
   "cell_type": "code",
   "execution_count": null,
   "metadata": {},
   "outputs": [],
   "source": [
    "model = LinearRegression()"
   ]
  },
  {
   "cell_type": "markdown",
   "metadata": {},
   "source": [
    "#### Step 2: Fit the Model\n",
    "\n",
    "We call the `.fit()` method, passing our training data. The model will now learn the optimal coefficients (just like Excel did)."
   ]
  },
  {
   "cell_type": "code",
   "execution_count": null,
   "metadata": {},
   "outputs": [],
   "source": [
    "model.fit(X_train, y_train)"
   ]
  },
  {
   "cell_type": "markdown",
   "metadata": {},
   "source": [
    "The model is now trained!"
   ]
  },
  {
   "cell_type": "markdown",
   "metadata": {},
   "source": [
    "### 4. Interpreting the Model\n",
    "\n",
    "We can inspect the learned coefficients, just like we did in Excel.\n",
    "*   The **intercept** is stored in `model.intercept_`.\n",
    "*   The **coefficients** for each feature in X are stored in `model.coef_`."
   ]
  },
  {
   "cell_type": "code",
   "execution_count": null,
   "metadata": {},
   "outputs": [],
   "source": [
    "print(f\"Intercept: {model.intercept_:.2f}\")\n",
    "print(f\"Coefficients: {model.coef_}\")\n",
    "\n",
    "# Let's make that more readable\n",
    "print(f\"Coefficient for 'tenure': {model.coef_[0]:.2f}\")\n",
    "print(f\"Coefficient for 'MonthlyCharges': {model.coef_[1]:.2f}\")"
   ]
  },
  {
   "cell_type": "markdown",
   "metadata": {},
   "source": [
    "**The Model Equation:**\n",
    "`Predicted TotalCharges = (73.43 * tenure) + (19.32 * MonthlyCharges) - 1324.75`\n",
    "\n",
    "**Interpretation:**\n",
    "*   For every one-month increase in `tenure`, the `TotalCharges` are predicted to increase by `$73.43`, holding `MonthlyCharges` constant.\n",
    "*   For every one-dollar increase in `MonthlyCharges`, the `TotalCharges` are predicted to increase by `$19.32`, holding `tenure` constant."
   ]
  },
  {
   "cell_type": "markdown",
   "metadata": {},
   "source": [
    "### 5. Making Predictions\n",
    "\n",
    "Now we use our trained model to make predictions on the `X_test` data that it has never seen before."
   ]
  },
  {
   "cell_type": "code",
   "execution_count": null,
   "metadata": {},
   "outputs": [],
   "source": [
    "y_pred = model.predict(X_test)"
   ]
  },
  {
   "cell_type": "markdown",
   "metadata": {},
   "source": [
    "Let's compare the first few predictions (`y_pred`) with the actual true values (`y_test`)."
   ]
  },
  {
   "cell_type": "code",
   "execution_count": null,
   "metadata": {},
   "outputs": [],
   "source": [
    "print(\"First 5 Predictions:\", y_pred[:5])\n",
    "print(\"First 5 Actual Values:\", y_test[:5].values)"
   ]
  },
  {
   "cell_type": "markdown",
   "metadata": {},
   "source": [
    "The predictions seem to be in the right ballpark, but they aren't perfect. How good are they really?"
   ]
  },
  {
   "cell_type": "markdown",
   "metadata": {},
   "source": [
    "### 6. Conclusion\n",
    "\n",
    "In this lab, you learned the standard Scikit-learn workflow for training a predictive model:\n",
    "1.  **Initialize** the model (`LinearRegression()`).\n",
    "2.  **Fit** the model to the training data (`.fit()`).\n",
    "3.  **Predict** on new data (`.predict()`).\n",
    "4.  Inspect the model's learned parameters (`.intercept_` and `.coef_`) to understand how it makes predictions.\n",
    "\n",
    "We have successfully trained a model and used it to make predictions.\n",
    "\n",
    "**Next Session:** We will learn how to formally evaluate the performance of our regression model to know how accurate our predictions are."
   ]
  }
 ],
 "metadata": {
  "kernelspec": {
   "display_name": "Python 3",
   "language": "python",
   "name": "python3"
  },
  "language_info": {
   "codemirror_mode": {
    "name": "ipython",
    "version": 3
   },
   "file_extension": ".py",
   "mimetype": "text/x-python",
   "name": "python",
   "nbconvert_exporter": "python",
   "pygments_lexer": "ipython3",
   "version": "3.8.8"
  }
 },
 "nbformat": 4,
 "nbformat_minor": 4
}