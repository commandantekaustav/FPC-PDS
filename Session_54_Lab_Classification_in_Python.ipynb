{
 "cells": [
  {
   "cell_type": "markdown",
   "metadata": {},
   "source": [
    "# Session 54: Classification in Python\n",
    "\n",
    "**Unit 5: Basics of Predictive Analytics**\n",
    "**Hour: 54**\n",
    "**Mode: Practical Lab**\n",
    "\n",
    "---\n",
    "\n",
    "### 1. Objective\n",
    "\n",
    "This lab focuses on training our first **classification** model. We will use **Logistic Regression**, a fundamental algorithm for binary classification, to predict customer churn based on our Telco dataset.\n",
    "\n",
    "The process will follow the same Scikit-learn workflow we learned for Linear Regression, demonstrating the library's consistency and ease of use."
   ]
  },
  {
   "cell_type": "markdown",
   "metadata": {},
   "source": [
    "### 2. Setup\n",
    "\n",
    "We will repeat the full data preparation workflow we designed in Session 51."
   ]
  },
  {
   "cell_type": "code",
   "execution_count": null,
   "metadata": {},
   "outputs": [],
   "source": [
    "import pandas as pd\n",
    "from sklearn.model_selection import train_test_split\n",
    "from sklearn.linear_model import LogisticRegression\n",
    "\n",
    "# Load data\n",
    "url = 'https://raw.githubusercontent.com/IBM/telco-customer-churn-on-icp4d/master/data/Telco-Customer-Churn.csv'\n",
    "df = pd.read_csv(url)\n",
    "\n",
    "# For this example, let's use a few strong predictors\n",
    "df_subset = df[['tenure', 'MonthlyCharges', 'Contract', 'Churn']].copy()\n",
    "df_subset.dropna(inplace=True)\n",
    "\n",
    "# 1. Separate Features (X) and Target (y)\n",
    "X = df_subset.drop('Churn', axis=1)\n",
    "y = df_subset['Churn']\n",
    "\n",
    "# 2. One-Hot Encode Categorical Features\n",
    "X_encoded = pd.get_dummies(X, columns=['Contract'], drop_first=True)\n",
    "\n",
    "# 3. Split Data\n",
    "X_train, X_test, y_train, y_test = train_test_split(X_encoded, y, test_size=0.2, random_state=42)"
   ]
  },
  {
   "cell_type": "markdown",
   "metadata": {},
   "source": [
    "### 3. Training the Logistic Regression Model\n",
    "\n",
    "We follow the exact same `initialize -> fit -> predict` pattern."
   ]
  },
  {
   "cell_type": "markdown",
   "metadata": {},
   "source": [
    "#### Step 1: Initialize the Model\n",
    "\n",
    "We create an instance of the `LogisticRegression` class."
   ]
  },
  {
   "cell_type": "code",
   "execution_count": null,
   "metadata": {},
   "outputs": [],
   "source": [
    "# We set max_iter=1000 to ensure the model converges, which can be an issue on some datasets.\n",
    "log_model = LogisticRegression(max_iter=1000)"
   ]
  },
  {
   "cell_type": "markdown",
   "metadata": {},
   "source": [
    "#### Step 2: Fit the Model\n",
    "\n",
    "We train the model on our training data."
   ]
  },
  {
   "cell_type": "code",
   "execution_count": null,
   "metadata": {},
   "outputs": [],
   "source": [
    "log_model.fit(X_train, y_train)"
   ]
  },
  {
   "cell_type": "markdown",
   "metadata": {},
   "source": [
    "The model has now learned the relationships between tenure, monthly charges, contract type, and the likelihood of churning."
   ]
  },
  {
   "cell_type": "markdown",
   "metadata": {},
   "source": [
    "#### Step 3: Make Predictions\n",
    "\n",
    "We use the trained model to predict the outcome for the unseen test set."
   ]
  },
  {
   "cell_type": "code",
   "execution_count": null,
   "metadata": {},
   "outputs": [],
   "source": [
    "y_pred = log_model.predict(X_test)"
   ]
  },
  {
   "cell_type": "markdown",
   "metadata": {},
   "source": [
    "Let's look at the first 10 predictions and compare them to the actual outcomes."
   ]
  },
  {
   "cell_type": "code",
   "execution_count": null,
   "metadata": {},
   "outputs": [],
   "source": [
    "print(\"Predictions:\", y_pred[:10])\n",
    "print(\"Actuals:    \", y_test[:10].values)"
   ]
  },
  {
   "cell_type": "markdown",
   "metadata": {},
   "source": [
    "The model seems to be making some correct and some incorrect predictions. To know how well it's doing overall, we need to evaluate it."
   ]
  },
  {
   "cell_type": "markdown",
   "metadata": {},
   "source": [
    "### 4. Conclusion\n",
    "\n",
    "In this lab, you have successfully trained your first classification model in Python.\n",
    "1.  You prepared the data for a classification task (separating X/y, one-hot encoding, splitting).\n",
    "2.  You followed the standard Scikit-learn `fit`/`predict` workflow with the `LogisticRegression` model.\n",
    "3.  You have generated a set of predictions on unseen data.\n",
    "\n",
    "This demonstrates the power and consistency of the Scikit-learn library for tackling different kinds of machine learning problems.\n",
    "\n",
    "**Next Session:** We will learn how to evaluate the performance of our classification model using the most common metric: accuracy."
   ]
  }
 ],
 "metadata": {
  "kernelspec": {
   "display_name": "Python 3",
   "language": "python",
   "name": "python3"
  },
  "language_info": {
   "codemirror_mode": {
    "name": "ipython",
    "version": 3
   },
   "file_extension": ".py",
   "mimetype": "text/x-python",
   "name": "python",
   "nbconvert_exporter": "python",
   "pygments_lexer": "ipython3",
   "version": "3.8.8"
  }
 },
 "nbformat": 4,
 "nbformat_minor": 4
}