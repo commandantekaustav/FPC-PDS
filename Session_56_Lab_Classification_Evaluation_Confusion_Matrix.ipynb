{
 "cells": [
  {
   "cell_type": "markdown",
   "metadata": {},
   "source": [
    "# Session 56: The Confusion Matrix\n",
    "\n",
    "**Unit 5: Basics of Predictive Analytics**\n",
    "**Hour: 56**\n",
    "**Mode: Practical Lab**\n",
    "\n",
    "---\n",
    "\n",
    "### 1. Objective\n",
    "\n",
    "This lab introduces the **Confusion Matrix**, the most important tool for evaluating a classification model. It moves beyond the single number of accuracy and shows us a complete picture of *how* our model is making correct and incorrect predictions.\n",
    "\n",
    "Our goal is to generate and interpret a confusion matrix for our churn prediction model."
   ]
  },
  {
   "cell_type": "markdown",
   "metadata": {},
   "source": [
    "### 2. Setup\n",
    "\n",
    "Let's recreate our Logistic Regression model and predictions."
   ]
  },
  {
   "cell_type": "code",
   "execution_count": null,
   "metadata": {},
   "outputs": [],
   "source": [
    "import pandas as pd\n",
    "import seaborn as sns\n",
    "import matplotlib.pyplot as plt\n",
    "from sklearn.model_selection import train_test_split\n",
    "from sklearn.linear_model import LogisticRegression\n",
    "from sklearn.metrics import confusion_matrix\n",
    "\n",
    "# Load and prep data\n",
    "url = 'https://raw.githubusercontent.com/IBM/telco-customer-churn-on-icp4d/master/data/Telco-Customer-Churn.csv'\n",
    "df = pd.read_csv(url)\n",
    "df_subset = df[['tenure', 'MonthlyCharges', 'Contract', 'Churn']].copy()\n",
    "df_subset.dropna(inplace=True)\n",
    "\n",
    "# Prep data and train model\n",
    "X = df_subset.drop('Churn', axis=1)\n",
    "y = df_subset['Churn']\n",
    "X_encoded = pd.get_dummies(X, columns=['Contract'], drop_first=True)\n",
    "X_train, X_test, y_train, y_test = train_test_split(X_encoded, y, test_size=0.2, random_state=42)\n",
    "\n",
    "# Fit model and make predictions\n",
    "log_model = LogisticRegression(max_iter=1000)\n",
    "log_model.fit(X_train, y_train)\n",
    "y_pred = log_model.predict(X_test)"
   ]
  },
  {
   "cell_type": "markdown",
   "metadata": {},
   "source": [
    "### 3. What is a Confusion Matrix?\n",
    "\n",
    "A confusion matrix is a table that breaks down the predictions of a classification model. For a binary problem (like Churn 'Yes'/'No'), it's a 2x2 table:\n",
    "\n",
    "| | Predicted: No | Predicted: Yes |\n",
    "| :--- | :--- | :--- |\n",
    "| **Actual: No** | True Negative (TN) | False Positive (FP) |\n",
    "| **Actual: Yes** | False Negative (FN) | True Positive (TP) |\n",
    "\n",
    "*   **True Negative (TN):** Correct. The model predicted 'No', and the customer did **not** churn.\n",
    "*   **False Positive (FP):** Incorrect. The model predicted 'Yes', but the customer did **not** churn. (A false alarm).\n",
    "*   **False Negative (FN):** Incorrect. The model predicted 'No', but the customer **did** churn. (A dangerous miss).\n",
    "*   **True Positive (TP):** Correct. The model predicted 'Yes', and the customer **did** churn."
   ]
  },
  {
   "cell_type": "markdown",
   "metadata": {},
   "source": [
    "### 4. Generating the Confusion Matrix\n",
    "\n",
    "We use the `confusion_matrix` function from Scikit-learn."
   ]
  },
  {
   "cell_type": "code",
   "execution_count": null,
   "metadata": {},
   "outputs": [],
   "source": [
    "cm = confusion_matrix(y_test, y_pred)\n",
    "print(cm)"
   ]
  },
  {
   "cell_type": "markdown",
   "metadata": {},
   "source": [
    "This array format isn't very readable. Let's visualize it with a Seaborn heatmap."
   ]
  },
  {
   "cell_type": "code",
   "execution_count": null,
   "metadata": {},
   "outputs": [],
   "source": [
    "plt.figure(figsize=(8, 6))\n",
    "sns.heatmap(cm, annot=True, fmt='d', cmap='Blues', \n",
    "            xticklabels=['Predicted No', 'Predicted Yes'], \n",
    "            yticklabels=['Actual No', 'Actual Yes'])\n",
    "plt.title('Confusion Matrix for Churn Prediction')\n",
    "plt.ylabel('Actual Label')\n",
    "plt.xlabel('Predicted Label')\n",
    "plt.show()"
   ]
  },
  {
   "cell_type": "markdown",
   "metadata": {},
   "source": [
    "### 5. Interpreting Our Results\n",
    "\n",
    "Let's break down the numbers from our plot:\n",
    "*   **True Negatives (TN) = 926:** Our model correctly predicted that 926 customers would **not** churn.\n",
    "*   **False Positives (FP) = 110:** Our model incorrectly predicted that 110 customers **would** churn, but they actually didn't. (We might waste money giving a promotion to a happy customer).\n",
    "*   **False Negatives (FN) = 179:** Our model incorrectly predicted that 179 customers would **not** churn, but they actually did. (**This is the most costly error!** We missed the chance to save these customers).\n",
    "*   **True Positives (TP) = 192:** Our model correctly predicted that 192 customers **would** churn.\n",
    "\n",
    "**Connecting back to Accuracy:**\n",
    "Accuracy = (Correct Predictions) / (Total Predictions) = (TN + TP) / (TN + FP + FN + TP)\n",
    "Accuracy = (926 + 192) / (926 + 110 + 179 + 192) = 1118 / 1407 ≈ 0.7946, which matches our previous result!"
   ]
  },
  {
   "cell_type": "markdown",
   "metadata": {},
   "source": [
    "### 6. Conclusion\n",
    "\n",
    "In this lab, you learned:\n",
    "1.  What a **Confusion Matrix** is and how to interpret its four quadrants (TN, FP, FN, TP).\n",
    "2.  How to generate and visualize a confusion matrix using Scikit-learn and Seaborn.\n",
    "3.  How the confusion matrix gives a much more detailed and business-relevant view of model performance than accuracy alone.\n",
    "\n",
    "It highlights the different types of errors our model makes, allowing us to understand the business implications of those errors (e.g., False Negatives are the most costly for a churn problem).\n",
    "\n",
    "**Next Session:** We will conclude our modeling unit by discussing how to interpret our model's results and understanding its limitations."
   ]
  }
 ],
 "metadata": {
  "kernelspec": {
   "display_name": "Python 3",
   "language": "python",
   "name": "python3"
  },
  "language_info": {
   "codemirror_mode": {
    "name": "ipython",
    "version": 3
   },
   "file_extension": ".py",
   "mimetype": "text/x-python",
   "name": "python",
   "nbconvert_exporter": "python",
   "pygments_lexer": "ipython3",
   "version": "3.8.8"
  }
 },
 "nbformat": 4,
 "nbformat_minor": 4
}