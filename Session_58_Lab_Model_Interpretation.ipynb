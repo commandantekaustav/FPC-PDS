{
 "cells": [
  {
   "cell_type": "markdown",
   "metadata": {},
   "source": [
    "# Session 58: Interpreting Model Results\n",
    "\n",
    "**Unit 5: Basics of Predictive Analytics**\n",
    "**Hour: 58**\n",
    "**Mode: Practical Lab**\n",
    "\n",
    "---\n",
    "\n",
    "### 1. Objective\n",
    "\n",
    "This lab focuses on model interpretability. Building a model that performs well is only half the battle; we also need to understand **why** it makes the predictions it does. This is crucial for building trust with stakeholders and for ensuring our model is fair and logical.\n",
    "\n",
    "We will inspect the coefficients of our trained Logistic Regression model to determine which features are most influential in predicting churn."
   ]
  },
  {
   "cell_type": "markdown",
   "metadata": {},
   "source": [
    "### 2. Setup\n",
    "\n",
    "Let's recreate our Logistic Regression model."
   ]
  },
  {
   "cell_type": "code",
   "execution_count": null,
   "metadata": {},
   "outputs": [],
   "source": [
    "import pandas as pd\n",
    "from sklearn.model_selection import train_test_split\n",
    "from sklearn.linear_model import LogisticRegression\n",
    "\n",
    "# Load and prep data\n",
    "url = 'https://raw.githubusercontent.com/IBM/telco-customer-churn-on-icp4d/master/data/Telco-Customer-Churn.csv'\n",
    "df = pd.read_csv(url)\n",
    "df_subset = df[['tenure', 'MonthlyCharges', 'Contract', 'Churn']].copy()\n",
    "df_subset.dropna(inplace=True)\n",
    "\n",
    "# Prep data for modeling\n",
    "X = df_subset.drop('Churn', axis=1)\n",
    "y = df_subset['Churn']\n",
    "X_encoded = pd.get_dummies(X, columns=['Contract'], drop_first=True)\n",
    "X_train, X_test, y_train, y_test = train_test_split(X_encoded, y, test_size=0.2, random_state=42)\n",
    "\n",
    "# Fit model\n",
    "log_model = LogisticRegression(max_iter=1000)\n",
    "log_model.fit(X_train, y_train)"
   ]
  },
  {
   "cell_type": "markdown",
   "metadata": {},
   "source": [
    "### 3. Understanding Logistic Regression Coefficients\n",
    "\n",
    "Similar to Linear Regression, a trained Logistic Regression model has coefficients for each feature. However, their interpretation is slightly different.\n",
    "\n",
    "*   **Positive Coefficient:** An increase in this feature's value increases the **log-odds** (and thus the probability) of the outcome being the positive class ('Yes' for churn).\n",
    "*   **Negative Coefficient:** An increase in this feature's value decreases the **log-odds** (and thus the probability) of the outcome being the positive class.\n",
    "\n",
    "The **magnitude** of the coefficient indicates the strength of the feature's influence."
   ]
  },
  {
   "cell_type": "markdown",
   "metadata": {},
   "source": [
    "### 4. Extracting and Visualizing Coefficients\n",
    "\n",
    "Let's get the coefficients from our trained model."
   ]
  },
  {
   "cell_type": "code",
   "execution_count": null,
   "metadata": {},
   "outputs": [],
   "source": [
    "# The coefficients are stored in model.coef_. It's a 2D array, so we take the first row.\n",
    "coefficients = log_model.coef_[0]\n",
    "\n",
    "# The feature names are the columns of our encoded X_train DataFrame\n",
    "feature_names = X_train.columns\n",
    "\n",
    "# Let's create a DataFrame to see them together\n",
    "coef_df = pd.DataFrame({'Feature': feature_names, 'Coefficient': coefficients})\n",
    "\n",
    "# Sort by the absolute value of the coefficient to see the most influential features\n",
    "coef_df['Abs_Coefficient'] = coef_df['Coefficient'].abs()\n",
    "coef_df = coef_df.sort_values(by='Abs_Coefficient', ascending=False)\n",
    "\n",
    "print(coef_df)"
   ]
  },
  {
   "cell_type": "markdown",
   "metadata": {},
   "source": [
    "**Interpretation:**\n",
    "*   `Contract_One year` and `Contract_Two year` have large **negative** coefficients. This means that being on one of these contracts **strongly decreases** the probability of churning compared to the baseline (Month-to-month).\n",
    "*   `tenure` has a **negative** coefficient. This means that as tenure increases, the probability of churning **decreases**.\n",
    "*   `MonthlyCharges` has a small **positive** coefficient. This means that as monthly charges increase, the probability of churning **slightly increases**.\n",
    "\n",
    "This confirms our EDA findings: **Contract type** and **tenure** are the most powerful predictors of churn."
   ]
  },
  {
   "cell_type": "markdown",
   "metadata": {},
   "source": [
    "#### Visualizing the Coefficients\n",
    "\n",
    "A bar chart is a great way to visualize these feature importances."
   ]
  },
  {
   "cell_type": "code",
   "execution_count": null,
   "metadata": {},
   "outputs": [],
   "source": [
    "import matplotlib.pyplot as plt\n",
    "import seaborn as sns\n",
    "\n",
    "plt.figure(figsize=(10, 6))\n",
    "sns.barplot(x='Coefficient', y='Feature', data=coef_df.sort_values(by='Coefficient', ascending=False))\n",
    "plt.title('Feature Importance for Churn Prediction')\n",
    "plt.xlabel('Coefficient Value (Log-Odds)')\n",
    "plt.ylabel('Feature')\n",
    "plt.axvline(0, color='black', lw=0.5)\n",
    "plt.show()"
   ]
  },
  {
   "cell_type": "markdown",
   "metadata": {},
   "source": [
    "### 5. Conclusion\n",
    "\n",
    "In this lab, you learned how to look \"inside the black box\" of your predictive model:\n",
    "1.  Understand that coefficients in a Logistic Regression model represent the feature's influence on the probability of the outcome.\n",
    "2.  Extract the coefficients and feature names from a trained Scikit-learn model.\n",
    "3.  Create a summary table and visualization to rank features by their importance.\n",
    "4.  Use this information to explain *why* your model makes certain predictions, which is crucial for building trust and deriving actionable business insights.\n",
    "\n",
    "Our interpretation confirms that focusing on retaining customers with low tenure and month-to-month contracts is the correct business strategy.\n",
    "\n",
    "**Next Session:** We will discuss how to package these findings into a clear and concise summary for a business audience."
   ]
  }
 ],
 "metadata": {
  "kernelspec": {
   "display_name": "Python 3",
   "language": "python",
   "name": "python3"
  },
  "language_info": {
   "codemirror_mode": {
    "name": "ipython",
    "version": 3
   },
   "file_extension": ".py",
   "mimetype": "text/x-python",
   "name": "python",
   "nbconvert_exporter": "python",
   "pygments_lexer": "ipython3",
   "version": "3.8.8"
  }
 },
 "nbformat": 4,
 "nbformat_minor": 4
}