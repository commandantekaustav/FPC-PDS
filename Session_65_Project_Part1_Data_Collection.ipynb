{
 "cells": [
  {
   "cell_type": "markdown",
   "metadata": {},
   "source": [
    "# Session 65: Capstone Project Part 1 (Data Collection & Inspection)\n",
    "\n",
    "**Unit 6: Data Ethics, Privacy, and Future Trends**\n",
    "**Hour: 65**\n",
    "**Mode: Practical Project**\n",
    "\n",
    "---\n",
    "\n",
    "### 1. Objective\n",
    "\n",
    "This lab session focuses on the **Obtain** and initial **Explore** steps for our StyleSphere marketing campaign project. We will load the dataset, perform our standard inspection checks, and get a first feel for its structure and contents."
   ]
  },
  {
   "cell_type": "markdown",
   "metadata": {},
   "source": [
    "### 2. Setup\n",
    "\n",
    "Import Pandas and any other libraries you anticipate needing."
   ]
  },
  {
   "cell_type": "code",
   "execution_count": null,
   "metadata": {},
   "outputs": [],
   "source": [
    "import pandas as pd\n",
    "import numpy as np"
   ]
  },
  {
   "cell_type": "markdown",
   "metadata": {},
   "source": [
    "### 3. Obtain: Loading the Data\n",
    "\n",
    "The dataset is available online. We will load it from a public URL. This dataset uses a tab `\\t` as a separator, so we need to specify that in our `read_csv` command."
   ]
  },
  {
   "cell_type": "code",
   "execution_count": null,
   "metadata": {},
   "outputs": [],
   "source": [
    "url = 'https://raw.githubusercontent.com/LeoFernan/Marketing-Campaigns-Analysis/main/marketing_campaign.csv'\n",
    "df = pd.read_csv(url, sep='\\t')\n"
   ]
  },
  {
   "cell_type": "markdown",
   "metadata": {},
   "source": [
    "### 4. Initial Inspection\n",
    "\n",
    "Let's run our standard set of inspection commands to understand the data we're working with."
   ]
  },
  {
   "cell_type": "markdown",
   "metadata": {},
   "source": [
    "#### 4.1. `.head()` and `.shape`"
   ]
  },
  {
   "cell_type": "code",
   "execution_count": null,
   "metadata": {},
   "outputs": [],
   "source": [
    "df.head()"
   ]
  },
  {
   "cell_type": "code",
   "execution_count": null,
   "metadata": {},
   "outputs": [],
   "source": [
    "df.shape"
   ]
  },
  {
   "cell_type": "markdown",
   "metadata": {},
   "source": [
    "**Finding:** We have 2240 customers (rows) and 29 columns of information."
   ]
  },
  {
   "cell_type": "markdown",
   "metadata": {},
   "source": [
    "#### 4.2. `.info()` - The Technical Summary"
   ]
  },
  {
   "cell_type": "code",
   "execution_count": null,
   "metadata": {},
   "outputs": [],
   "source": [
    "df.info()"
   ]
  },
  {
   "cell_type": "markdown",
   "metadata": {},
   "source": [
    "**Findings & Potential Issues:**\n",
    "1.  **Missing Values:** The `Income` column has `2216` non-null values, but there are `2240` rows in total. This confirms that we have **24 missing income values** that we will need to handle in the next session.\n",
    "2.  **Incorrect Data Type:** The `Dt_Customer` column is an `object` (text) but it represents a date. To do any time-based analysis (like calculating customer lifetime), we will need to convert this to a proper datetime format."
   ]
  },
  {
   "cell_type": "markdown",
   "metadata": {},
   "source": [
    "#### 4.3. `.describe()` - Statistical Summary"
   ]
  },
  {
   "cell_type": "code",
   "execution_count": null,
   "metadata": {},
   "outputs": [],
   "source": [
    "df.describe()"
   ]
  },
  {
   "cell_type": "markdown",
   "metadata": {},
   "source": [
    "**Findings:**\n",
    "*   **`Year_Birth`:** The minimum value is 1893. This is highly unlikely to be a real birth year for a current customer and is probably a data entry error or an outlier we should investigate.\n",
    "*   **`Income`:** The average household income is around $52,247. The maximum is very high at $666,666, which could also be an outlier.\n",
    "*   **`Response`:** The mean of this column is `0.149`. Since 'Yes' is coded as 1 and 'No' as 0, this mean value tells us the overall response rate: **14.9%** of customers in the dataset responded to the last campaign. This is another **imbalanced dataset**."
   ]
  },
  {
   "cell_type": "markdown",
   "metadata": {},
   "source": [
    "### 5. Conclusion\n",
    "\n",
    "In this session, we successfully loaded our project data and performed a thorough initial inspection. We have already identified several key data quality issues that need to be addressed before we can proceed with analysis:\n",
    "1.  24 missing values in the `Income` column.\n",
    "2.  An incorrect data type for `Dt_Customer`.\n",
    "3.  Potential outliers or errors in `Year_Birth` and `Income`.\n",
    "\n",
    "This sets a clear agenda for our next session, which will be dedicated to data cleaning.\n",
    "\n",
    "**Next Session:** We will execute the **Scrub** phase of our project, cleaning the data to prepare it for analysis."
   ]
  }
 ],
 "metadata": {
  "kernelspec": {
   "display_name": "Python 3",
   "language": "python",
   "name": "python3"
  },
  "language_info": {
   "codemirror_mode": {
    "name": "ipython",
    "version": 3
   },
   "file_extension": ".py",
   "mimetype": "text/x-python",
   "name": "python",
   "nbconvert_exporter": "python",
   "pygments_lexer": "ipython3",
   "version": "3.8.8"
  }
 },
 "nbformat": 4,
 "nbformat_minor": 4
}