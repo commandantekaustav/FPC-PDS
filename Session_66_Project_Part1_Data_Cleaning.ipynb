{
 "cells": [
  {
   "cell_type": "markdown",
   "metadata": {},
   "source": [
    "# Session 66: Capstone Project Part 1 (Data Cleaning)\n",
    "\n",
    "**Unit 6: Data Ethics, Privacy, and Future Trends**\n",
    "**Hour: 66**\n",
    "**Mode: Practical Project**\n",
    "\n",
    "---\n",
    "\n",
    "### 1. Objective\n",
    "\n",
    "This lab session is dedicated to the **Scrub** phase of our project. We will address the data quality issues we identified in the last session and create new, engineered features that will be useful for our analysis."
   ]
  },
  {
   "cell_type": "markdown",
   "metadata": {},
   "source": [
    "### 2. Setup\n",
    "\n",
    "Load the data again."
   ]
  },
  {
   "cell_type": "code",
   "execution_count": null,
   "metadata": {},
   "outputs": [],
   "source": [
    "import pandas as pd\n",
    "\n",
    "url = 'https://raw.githubusercontent.com/LeoFernan/Marketing-Campaigns-Analysis/main/marketing_campaign.csv'\n",
    "df = pd.read_csv(url, sep='\\t')"
   ]
  },
  {
   "cell_type": "markdown",
   "metadata": {},
   "source": [
    "### 3. Cleaning Task 1: Handle Missing Income Values\n",
    "\n",
    "We have 24 missing values in the `Income` column. Since this is a small number, we will use imputation with the median."
   ]
  },
  {
   "cell_type": "code",
   "execution_count": null,
   "metadata": {},
   "outputs": [],
   "source": [
    "# Calculate median\n",
    "median_income = df['Income'].median()\n",
    "\n",
    "# Impute missing values\n",
    "df['Income'].fillna(median_income, inplace=True)\n",
    "\n",
    "# Verify\n",
    "print(f\"Missing values in Income after cleaning: {df['Income'].isnull().sum()}\")"
   ]
  },
  {
   "cell_type": "markdown",
   "metadata": {},
   "source": [
    "### 4. Feature Engineering Task 1: Create Age and Customer Lifetime Features\n",
    "\n",
    "The `Year_Birth` and `Dt_Customer` columns are not very useful in their current form. Let's create more intuitive features from them."
   ]
  },
  {
   "cell_type": "markdown",
   "metadata": {},
   "source": [
    "#### 4.1. Create 'Age' from 'Year_Birth'\n",
    "\n",
    "We'll assume the analysis is being done in the year 2024."
   ]
  },
  {
   "cell_type": "code",
   "execution_count": null,
   "metadata": {},
   "outputs": [],
   "source": [
    "df['Age'] = 2024 - df['Year_Birth']"
   ]
  },
  {
   "cell_type": "markdown",
   "metadata": {},
   "source": [
    "#### 4.2. Create 'Customer_Lifetime' from 'Dt_Customer'\n",
    "\n",
    "First, we need to convert `Dt_Customer` to a datetime object. Then we can calculate the number of days since enrollment."
   ]
  },
  {
   "cell_type": "code",
   "execution_count": null,
   "metadata": {},
   "outputs": [],
   "source": [
    "# Convert to datetime\n",
    "df['Dt_Customer'] = pd.to_datetime(df['Dt_Customer'])\n",
    "\n",
    "# Calculate lifetime in days relative to a reference date\n",
    "reference_date = pd.to_datetime('2024-01-01')\n",
    "df['Customer_Lifetime_Days'] = (reference_date - df['Dt_Customer']).dt.days\n",
    "\n",
    "df[['Dt_Customer', 'Customer_Lifetime_Days']].head()"
   ]
  },
  {
   "cell_type": "markdown",
   "metadata": {},
   "source": [
    "### 5. Feature Engineering Task 2: Simplify Categorical Columns\n",
    "\n",
    "The `Marital_Status` and `Education` columns have many categories. Let's simplify them."
   ]
  },
  {
   "cell_type": "code",
   "execution_count": null,
   "metadata": {},
   "outputs": [],
   "source": [
    "# Simplify Marital_Status into 'In Relationship' or 'Single'\n",
    "df['Relationship'] = df['Marital_Status'].replace({\n",
    "    'Married': 'In Relationship',\n",
    "    'Together': 'In Relationship',\n",
    "    'Single': 'Single',\n",
    "    'Divorced': 'Single',\n",
    "    'Widow': 'Single',\n",
    "    'Alone': 'Single',\n",
    "    'Absurd': 'Single',\n",
    "    'YOLO': 'Single'\n",
    "})\n",
    "\n",
    "# Simplify Education into 'Undergraduate', 'Graduate', 'Postgraduate'\n",
    "df['Education_Level'] = df['Education'].replace({\n",
    "    'Basic': 'Undergraduate',\n",
    "    '2n Cycle': 'Graduate', # Assuming this is a Master's degree\n",
    "    'Graduation': 'Graduate',\n",
    "    'Master': 'Postgraduate',\n",
    "    'PhD': 'Postgraduate'\n",
    "})"
   ]
  },
  {
   "cell_type": "markdown",
   "metadata": {},
   "source": [
    "### 6. Feature Engineering Task 3: Combine Features\n",
    "\n",
    "Let's create some new features that summarize behavior."
   ]
  },
  {
   "cell_type": "code",
   "execution_count": null,
   "metadata": {},
   "outputs": [],
   "source": [
    "# Create a 'Children' feature combining kids and teens\n",
    "df['Children'] = df['Kidhome'] + df['Teenhome']\n",
    "\n",
    "# Create a 'Total_Spend' feature\n",
    "spend_cols = ['MntWines', 'MntFruits', 'MntMeatProducts', 'MntFishProducts', 'MntSweetProducts', 'MntGoldProds']\n",
    "df['Total_Spend'] = df[spend_cols].sum(axis=1)\n",
    "\n",
    "# Create a 'Total_Purchases' feature\n",
    "purchase_cols = ['NumWebPurchases', 'NumCatalogPurchases', 'NumStorePurchases']\n",
    "df['Total_Purchases'] = df[purchase_cols].sum(axis=1)"
   ]
  },
  {
   "cell_type": "markdown",
   "metadata": {},
   "source": [
    "### 7. Final Step: Drop Original and Unused Columns\n",
    "\n",
    "Now that we've created our new features, we can drop the old ones to keep our DataFrame clean."
   ]
  },
  {
   "cell_type": "code",
   "execution_count": null,
   "metadata": {},
   "outputs": [],
   "source": [
    "cols_to_drop = ['Year_Birth', 'Dt_Customer', 'Marital_Status', 'Education', \n",
    "                'Kidhome', 'Teenhome', 'Z_CostContact', 'Z_Revenue'] # Z columns are constants\n",
    "\n",
    "df_clean = df.drop(columns=cols_to_drop)\n",
    "\n",
    "print(\"Cleaned DataFrame columns:\")\n",
    "print(df_clean.columns)"
   ]
  },
  {
   "cell_type": "markdown",
   "metadata": {},
   "source": [
    "### 8. Conclusion\n",
    "\n",
    "This was an intensive data cleaning and feature engineering session. We have:\n",
    "1.  Handled missing values.\n",
    "2.  Converted dates and years into more useful features like `Age` and `Customer_Lifetime_Days`.\n",
    "3.  Simplified complex categorical variables.\n",
    "4.  Combined multiple columns to create powerful summary features like `Children`, `Total_Spend`, and `Total_Purchases`.\n",
    "5.  Cleaned up our final DataFrame by dropping unneeded columns.\n",
    "\n",
    "Our dataset is now fully prepared for the **Explore** phase.\n",
    "\n",
    "**Next Session:** We will begin the Exploratory Data Analysis of our cleaned dataset to test our hypotheses."
   ]
  }
 ],
 "metadata": {
  "kernelspec": {
   "display_name": "Python 3",
   "language": "python",
   "name": "python3"
  },
  "language_info": {
   "codemirror_mode": {
    "name": "ipython",
    "version": 3
   },
   "file_extension": ".py",
   "mimetype": "text/x-python",
   "name": "python",
   "nbconvert_exporter": "python",
   "pygments_lexer": "ipython3",
   "version": "3.8.8"
  }
 },
 "nbformat": 4,
 "nbformat_minor": 4
}