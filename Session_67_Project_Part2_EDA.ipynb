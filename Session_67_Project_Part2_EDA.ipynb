{
 "cells": [
  {
   "cell_type": "markdown",
   "metadata": {},
   "source": [
    "# Session 67: Capstone Project Part 2 (Exploratory Data Analysis)\n",
    "\n",
    "**Unit 6: Data Ethics, Privacy, and Future Trends**\n",
    "**Hour: 67**\n",
    "**Mode: Practical Project**\n",
    "\n",
    "---\n",
    "\n",
    "### 1. Objective\n",
    "\n",
    "This session marks the beginning of the **Explore** phase of our capstone project. We will use the cleaned and engineered dataset from the previous session to calculate descriptive statistics and perform grouped analysis to start testing our initial hypotheses."
   ]
  },
  {
   "cell_type": "markdown",
   "metadata": {},
   "source": [
    "### 2. Setup\n",
    "\n",
    "For this lab, we need to recreate our `df_clean` DataFrame by running all the steps from the previous session."
   ]
  },
  {
   "cell_type": "code",
   "execution_count": null,
   "metadata": {},
   "outputs": [],
   "source": [
    "import pandas as pd\n",
    "\n",
    "# --- Start of Cleaning and Feature Engineering Code ---\n",
    "url = 'https://raw.githubusercontent.com/LeoFernan/Marketing-Campaigns-Analysis/main/marketing_campaign.csv'\n",
    "df = pd.read_csv(url, sep='\\t')\n",
    "\n",
    "df['Income'].fillna(df['Income'].median(), inplace=True)\n",
    "df['Age'] = 2024 - df['Year_Birth']\n",
    "df['Dt_Customer'] = pd.to_datetime(df['Dt_Customer'])\n",
    "df['Customer_Lifetime_Days'] = (pd.to_datetime('2024-01-01') - df['Dt_Customer']).dt.days\n",
    "df['Relationship'] = df['Marital_Status'].replace({'Married': 'In Relationship', 'Together': 'In Relationship', 'Single': 'Single', 'Divorced': 'Single', 'Widow': 'Single', 'Alone': 'Single', 'Absurd': 'Single', 'YOLO': 'Single'})\n",
    "df['Education_Level'] = df['Education'].replace({'Basic': 'Undergraduate', '2n Cycle': 'Graduate', 'Graduation': 'Graduate', 'Master': 'Postgraduate', 'PhD': 'Postgraduate'})\n",
    "df['Children'] = df['Kidhome'] + df['Teenhome']\n",
    "spend_cols = ['MntWines', 'MntFruits', 'MntMeatProducts', 'MntFishProducts', 'MntSweetProducts', 'MntGoldProds']\n",
    "df['Total_Spend'] = df[spend_cols].sum(axis=1)\n",
    "purchase_cols = ['NumWebPurchases', 'NumCatalogPurchases', 'NumStorePurchases']\n",
    "df['Total_Purchases'] = df[purchase_cols].sum(axis=1)\n",
    "cols_to_drop = ['Year_Birth', 'Dt_Customer', 'Marital_Status', 'Education', 'Kidhome', 'Teenhome', 'Z_CostContact', 'Z_Revenue']\n",
    "df_clean = df.drop(columns=cols_to_drop)\n",
    "# --- End of Cleaning and Feature Engineering Code ---\n",
    "\n",
    "print(\"Clean DataFrame is ready.\")"
   ]
  },
  {
   "cell_type": "markdown",
   "metadata": {},
   "source": [
    "### 3. Exploratory Analysis: Testing Our Hypotheses\n",
    "\n",
    "Let's use `.groupby()` and descriptive statistics to investigate the hypotheses we formulated in Session 64."
   ]
  },
  {
   "cell_type": "markdown",
   "metadata": {},
   "source": [
    "#### 3.1. Hypothesis 1: \"Customers with higher `Income` will be more likely to respond.\"\n",
    "\n",
    "Let's group by our target variable `Response` and check the average income for each group."
   ]
  },
  {
   "cell_type": "code",
   "execution_count": null,
   "metadata": {},
   "outputs": [],
   "source": [
    "df_clean.groupby('Response')['Income'].mean()"
   ]
  },
  {
   "cell_type": "markdown",
   "metadata": {},
   "source": [
    "**Finding:** **Hypothesis Confirmed.** The average income of customers who responded (`1`) is significantly higher (~$68,345) than that of customers who did not respond (`0`) (~$49,431)."
   ]
  },
  {
   "cell_type": "markdown",
   "metadata": {},
   "source": [
    "#### 3.2. Hypothesis 2: \"Customers who have purchased more recently (`Recency` is low) will be more likely to respond.\"\n",
    "\n",
    "Let's group by `Response` and check the average `Recency`."
   ]
  },
  {
   "cell_type": "code",
   "execution_count": null,
   "metadata": {},
   "outputs": [],
   "source": [
    "df_clean.groupby('Response')['Recency'].mean()"
   ]
  },
  {
   "cell_type": "markdown",
   "metadata": {},
   "source": [
    "**Finding:** **Hypothesis Confirmed.** The average recency for responders is lower (~35 days) than for non-responders (~52 days), suggesting that recently active customers are indeed more likely to accept an offer."
   ]
  },
  {
   "cell_type": "markdown",
   "metadata": {},
   "source": [
    "#### 3.3. Hypothesis 3: \"Customers with kids at home (`Children` > 0) will be less likely to respond.\"\n",
    "\n",
    "This is a bit more complex. Let's group by the number of children and look at the response rate for each group. The response rate is the *mean* of the `Response` column."
   ]
  },
  {
   "cell_type": "code",
   "execution_count": null,
   "metadata": {},
   "outputs": [],
   "source": [
    "df_clean.groupby('Children')['Response'].mean() * 100"
   ]
  },
  {
   "cell_type": "markdown",
   "metadata": {},
   "source": [
    "**Finding:** **Hypothesis Confirmed.** The response rate for customers with 0 children (~21%) is significantly higher than for customers with 1, 2, or 3 children (hovering around 9-11%)."
   ]
  },
  {
   "cell_type": "markdown",
   "metadata": {},
   "source": [
    "### 4. Further Exploration: What else can we find?\n",
    "\n",
    "Let's explore some of our other new features."
   ]
  },
  {
   "cell_type": "markdown",
   "metadata": {},
   "source": [
    "**Question:** Do customers who spend more overall respond more often?"
   ]
  },
  {
   "cell_type": "code",
   "execution_count": null,
   "metadata": {},
   "outputs": [],
   "source": [
    "df_clean.groupby('Response')['Total_Spend'].mean()"
   ]
  },
  {
   "cell_type": "markdown",
   "metadata": {},
   "source": [
    "**Finding:** Yes, a very strong signal. Responders spend, on average, more than double what non-responders do."
   ]
  },
  {
   "cell_type": "markdown",
   "metadata": {},
   "source": [
    "**Question:** What about our simplified `Relationship` status?"
   ]
  },
  {
   "cell_type": "code",
   "execution_count": null,
   "metadata": {},
   "outputs": [],
   "source": [
    "df_clean.groupby('Relationship')['Response'].mean() * 100"
   ]
  },
  {
   "cell_type": "markdown",
   "metadata": {},
   "source": [
    "**Finding:** This is interesting. The response rate for 'Single' customers is slightly higher than for those 'In Relationship', but the difference is not as dramatic as with income or children."
   ]
  },
  {
   "cell_type": "markdown",
   "metadata": {},
   "source": [
    "### 5. Conclusion\n",
    "\n",
    "Our initial Exploratory Data Analysis has been very successful. Using simple grouped statistics, we have:\n",
    "1.  Confirmed all three of our initial hypotheses.\n",
    "2.  Uncovered several other strong indicators of a positive response, especially `Total_Spend`.\n",
    "\n",
    "We can now define a preliminary profile of a high-propensity customer:\n",
    "*   They have a high income.\n",
    "*   They have purchased recently.\n",
    "*   They have no children.\n",
    "*   They are high spenders overall.\n",
    "\n",
    "**Next Session:** We will use data visualization to make these numerical findings more intuitive and compelling."
   ]
  }
 ],
 "metadata": {
  "kernelspec": {
   "display_name": "Python 3",
   "language": "python",
   "name": "python3"
  },
  "language_info": {
   "codemirror_mode": {
    "name": "ipython",
    "version": 3
   },
   "file_extension": ".py",
   "mimetype": "text/x-python",
   "name": "python",
   "nbconvert_exporter": "python",
   "pygments_lexer": "ipython3",
   "version": "3.8.8"
  }
 },
 "nbformat": 4,
 "nbformat_minor": 4
}