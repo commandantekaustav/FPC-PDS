{
 "cells": [
  {
   "cell_type": "markdown",
   "metadata": {},
   "source": [
    "# Session 68: Capstone Project Part 2 (Visualization)\n",
    "\n",
    "**Unit 6: Data Ethics, Privacy, and Future Trends**\n",
    "**Hour: 68**\n",
    "**Mode: Practical Project**\n",
    "\n",
    "---\n",
    "\n",
    "### 1. Objective\n",
    "\n",
    "This session is dedicated to visualizing the key findings from our EDA. The goal is to create a series of clear and compelling charts that tell the story of who our most responsive customers are. This will form the core of our final recommendation."
   ]
  },
  {
   "cell_type": "markdown",
   "metadata": {},
   "source": [
    "### 2. Setup\n",
    "\n",
    "We'll need our data cleaning code, plus Matplotlib and Seaborn for plotting."
   ]
  },
  {
   "cell_type": "code",
   "execution_count": null,
   "metadata": {},
   "outputs": [],
   "source": [
    "import pandas as pd\n",
    "import matplotlib.pyplot as plt\n",
    "import seaborn as sns\n",
    "\n",
    "# Set a default style for our plots\n",
    "sns.set_style(\"whitegrid\")\n",
    "\n",
    "# --- Start of Cleaning and Feature Engineering Code ---\n",
    "url = 'https://raw.githubusercontent.com/LeoFernan/Marketing-Campaigns-Analysis/main/marketing_campaign.csv'\n",
    "df = pd.read_csv(url, sep='\\t')\n",
    "df['Income'].fillna(df['Income'].median(), inplace=True)\n",
    "df['Age'] = 2024 - df['Year_Birth']\n",
    "df['Dt_Customer'] = pd.to_datetime(df['Dt_Customer'])\n",
    "df['Customer_Lifetime_Days'] = (pd.to_datetime('2024-01-01') - df['Dt_Customer']).dt.days\n",
    "df['Children'] = df['Kidhome'] + df['Teenhome']\n",
    "spend_cols = ['MntWines', 'MntFruits', 'MntMeatProducts', 'MntFishProducts', 'MntSweetProducts', 'MntGoldProds']\n",
    "df['Total_Spend'] = df[spend_cols].sum(axis=1)\n",
    "cols_to_drop = ['Year_Birth', 'Dt_Customer', 'Marital_Status', 'Education', 'Kidhome', 'Teenhome', 'Z_CostContact', 'Z_Revenue']\n",
    "df_clean = df.drop(columns=cols_to_drop)\n",
    "# --- End of Cleaning and Feature Engineering Code ---"
   ]
  },
  {
   "cell_type": "markdown",
   "metadata": {},
   "source": [
    "### 3. Visualizing Our Key Findings\n",
    "\n",
    "Let's create a visualization for each of our main findings from the previous session."
   ]
  },
  {
   "cell_type": "markdown",
   "metadata": {},
   "source": [
    "#### Viz 1: Income Distribution for Responders vs. Non-Responders\n",
    "\n",
    "A box plot is perfect for comparing these distributions."
   ]
  },
  {
   "cell_type": "code",
   "execution_count": null,
   "metadata": {},
   "outputs": [],
   "source": [
    "plt.figure(figsize=(8, 6))\n",
    "sns.boxplot(x='Response', y='Income', data=df_clean)\n",
    "plt.title('Income Distribution by Campaign Response', fontsize=16)\n",
    "plt.xticks([0, 1], ['Did Not Respond', 'Responded'])\n",
    "plt.xlabel('Campaign Response')\n",
    "plt.ylabel('Household Income')\n",
    "plt.show()"
   ]
  },
  {
   "cell_type": "markdown",
   "metadata": {},
   "source": [
    "**Story:** This plot clearly shows that the entire distribution of income for responders is higher than for non-responders. The median income for responders is significantly higher."
   ]
  },
  {
   "cell_type": "markdown",
   "metadata": {},
   "source": [
    "#### Viz 2: Total Spend for Responders vs. Non-Responders\n",
    "\n",
    "Let's use a bar plot to show the average total spend."
   ]
  },
  {
   "cell_type": "code",
   "execution_count": null,
   "metadata": {},
   "outputs": [],
   "source": [
    "plt.figure(figsize=(8, 6))\n",
    "sns.barplot(x='Response', y='Total_Spend', data=df_clean)\n",
    "plt.title('Average Total Spend by Campaign Response', fontsize=16)\n",
    "plt.xticks([0, 1], ['Did Not Respond', 'Responded'])\n",
    "plt.xlabel('Campaign Response')\n",
    "plt.ylabel('Average Total Spend (Last 2 Years)')\n",
    "plt.show()"
   ]
  },
  {
   "cell_type": "markdown",
   "metadata": {},
   "source": [
    "**Story:** The difference is stark. Customers who responded to the campaign spend, on average, more than twice as much as those who didn't. This shows that the campaign is successfully attracting our most valuable customers."
   ]
  },
  {
   "cell_type": "markdown",
   "metadata": {},
   "source": [
    "#### Viz 3: Response Rate by Number of Children\n",
    "\n",
    "A bar plot is also good here, but we need to show the *rate* of response, not the count."
   ]
  },
  {
   "cell_type": "code",
   "execution_count": null,
   "metadata": {},
   "outputs": [],
   "source": [
    "plt.figure(figsize=(10, 6))\n",
    "# By setting y='Response', the barplot will automatically calculate the mean of Response for each category\n",
    "sns.barplot(x='Children', y='Response', data=df_clean)\n",
    "plt.title('Campaign Response Rate by Number of Children in Household', fontsize=16)\n",
    "plt.xlabel('Number of Children')\n",
    "plt.ylabel('Response Rate')\n",
    "plt.show()"
   ]
  },
  {
   "cell_type": "markdown",
   "metadata": {},
   "source": [
    "**Story:** This plot confirms our finding that customers with zero children have a much higher response rate than those with one or more."
   ]
  },
  {
   "cell_type": "markdown",
   "metadata": {},
   "source": [
    "### 4. Conclusion\n",
    "\n",
    "In this session, we translated our statistical findings from the previous lab into clear and compelling visualizations. We have learned to:\n",
    "1.  Choose the right chart type (box plot, bar plot) to answer a specific business question.\n",
    "2.  Use titles and labels to make the charts easy to understand.\n",
    "3.  Interpret the story that each chart is telling.\n",
    "\n",
    "These visualizations will be the core components of our final presentation to the marketing team.\n",
    "\n",
    "**Next Session:** As a final step, we will build a simple predictive model to see if a machine learning algorithm can confirm the importance of our identified features."
   ]
  }
 ],
 "metadata": {
  "kernelspec": {
   "display_name": "Python 3",
   "language": "python",
   "name": "python3"
  },
  "language_info": {
   "codemirror_mode": {
    "name": "ipython",
    "version": 3
   },
   "file_extension": ".py",
   "mimetype": "text/x-python",
   "name": "python",
   "nbconvert_exporter": "python",
   "pygments_lexer": "ipython3",
   "version": "3.8.8"
  }
 },
 "nbformat": 4,
 "nbformat_minor": 4
}