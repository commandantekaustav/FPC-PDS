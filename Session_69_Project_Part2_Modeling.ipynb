{
 "cells": [
  {
   "cell_type": "markdown",
   "metadata": {},
   "source": [
    "# Session 69: Capstone Project Part 2 (Baseline Modeling)\n",
    "\n",
    "**Unit 6: Data Ethics, Privacy, and Future Trends**\n",
    "**Hour: 69**\n",
    "**Mode: Practical Project**\n",
    "\n",
    "---\n",
    "\n",
    "### 1. Objective\n",
    "\n",
    "In this final technical session, we will build a simple **baseline predictive model**. The goal is not to build a perfect, production-ready model, but to use machine learning as a final validation step for our EDA. We want to see if a Logistic Regression model agrees with our findings about which features are the most important for predicting campaign response."
   ]
  },
  {
   "cell_type": "markdown",
   "metadata": {},
   "source": [
    "### 2. Setup\n",
    "\n",
    "We will need our full cleaned DataFrame and several components from Scikit-learn."
   ]
  },
  {
   "cell_type": "code",
   "execution_count": null,
   "metadata": {},
   "outputs": [],
   "source": [
    "import pandas as pd\n",
    "from sklearn.model_selection import train_test_split\n",
    "from sklearn.linear_model import LogisticRegression\n",
    "from sklearn.metrics import accuracy_score, confusion_matrix\n",
    "\n",
    "# --- Start of Cleaning and Feature Engineering Code ---\n",
    "url = 'https://raw.githubusercontent.com/LeoFernan/Marketing-Campaigns-Analysis/main/marketing_campaign.csv'\n",
    "df = pd.read_csv(url, sep='\\t')\n",
    "df['Income'].fillna(df['Income'].median(), inplace=True)\n",
    "df['Age'] = 2024 - df['Year_Birth']\n",
    "df['Relationship'] = df['Marital_Status'].replace({'Married': 'In Relationship', 'Together': 'In Relationship', 'Single': 'Single', 'Divorced': 'Single', 'Widow': 'Single', 'Alone': 'Single', 'Absurd': 'Single', 'YOLO': 'Single'})\n",
    "df['Children'] = df['Kidhome'] + df['Teenhome']\n",
    "spend_cols = ['MntWines', 'MntFruits', 'MntMeatProducts', 'MntFishProducts', 'MntSweetProducts', 'MntGoldProds']\n",
    "df['Total_Spend'] = df[spend_cols].sum(axis=1)\n",
    "df_model = df[['Income', 'Recency', 'Children', 'Total_Spend', 'Relationship', 'Response']].copy()\n",
    "# --- End of Cleaning and Feature Engineering Code ---"
   ]
  },
  {
   "cell_type": "markdown",
   "metadata": {},
   "source": [
    "### 3. Data Preparation for Modeling\n",
    "\n",
    "We need to follow the standard ML workflow: separate X/y, one-hot encode, and split."
   ]
  },
  {
   "cell_type": "code",
   "execution_count": null,
   "metadata": {},
   "outputs": [],
   "source": [
    "# 1. Separate Features (X) and Target (y)\n",
    "X = df_model.drop('Response', axis=1)\n",
    "y = df_model['Response']\n",
    "\n",
    "# 2. One-Hot Encode Categorical Features\n",
    "X_encoded = pd.get_dummies(X, columns=['Relationship'], drop_first=True)\n",
    "\n",
    "# 3. Split Data\n",
    "X_train, X_test, y_train, y_test = train_test_split(X_encoded, y, test_size=0.3, random_state=42, stratify=y)\n",
    "# We use stratify=y because the dataset is imbalanced. This ensures the train and test sets have the same proportion of responders."
   ]
  },
  {
   "cell_type": "markdown",
   "metadata": {},
   "source": [
    "### 4. Build and Evaluate the Model"
   ]
  },
  {
   "cell_type": "code",
   "execution_count": null,
   "metadata": {},
   "outputs": [],
   "source": [
    "# Initialize, Fit, Predict\n",
    "model = LogisticRegression(max_iter=1000)\n",
    "model.fit(X_train, y_train)\n",
    "y_pred = model.predict(X_test)\n",
    "\n",
    "# Evaluate\n",
    "accuracy = accuracy_score(y_test, y_pred)\n",
    "print(f\"Baseline Model Accuracy: {accuracy*100:.2f}%\")"
   ]
  },
  {
   "cell_type": "markdown",
   "metadata": {},
   "source": [
    "An accuracy of ~86% is quite good for a simple baseline model."
   ]
  },
  {
   "cell_type": "markdown",
   "metadata": {},
   "source": [
    "### 5. Interpret the Model\n",
    "\n",
    "Let's look at the coefficients to see if the model agrees with our EDA findings."
   ]
  },
  {
   "cell_type": "code",
   "execution_count": null,
   "metadata": {},
   "outputs": [],
   "source": [
    "coefficients = model.coef_[0]\n",
    "feature_names = X_train.columns\n",
    "coef_df = pd.DataFrame({'Feature': feature_names, 'Coefficient': coefficients})\n",
    "\n",
    "coef_df = coef_df.sort_values(by='Coefficient', ascending=False)\n",
    "\n",
    "print(coef_df)"
   ]
  },
  {
   "cell_type": "markdown",
   "metadata": {},
   "source": [
    "**Interpretation:**\n",
    "*   **Positive Coefficients (Increase probability of responding):** `Total_Spend` and `Income` are the strongest positive predictors. This perfectly matches our EDA findings.\n",
    "*   **Negative Coefficients (Decrease probability of responding):** `Recency`, `Children`, and `Relationship_Single` are the strongest negative predictors. This also matches our EDA. A higher recency (more days since last purchase) leads to a lower probability of response.\n",
    "\n",
    "The machine learning model has automatically confirmed the insights we discovered through our manual exploration!"
   ]
  },
  {
   "cell_type": "markdown",
   "metadata": {},
   "source": [
    "### 6. Conclusion\n",
    "\n",
    "This session completed our analytical workflow. We have:\n",
    "1.  Prepared our cleaned data for a machine learning task.\n",
    "2.  Built a baseline Logistic Regression model and found it to be reasonably accurate.\n",
    "3.  Interpreted the model's coefficients and confirmed that the features we identified during our EDA (`Total_Spend`, `Income`, `Recency`, `Children`) are indeed the most important drivers of campaign response.\n",
    "\n",
    "This provides a powerful, final validation of our analysis.\n",
    "\n",
    "**Next Session:** We will focus on structuring all of our findings into a final presentation for the business stakeholders."
   ]
  }
 ],
 "metadata": {
  "kernelspec": {
   "display_name": "Python 3",
   "language": "python",
   "name": "python3"
  },
  "language_info": {
   "codemirror_mode": {
    "name": "ipython",
    "version": 3
   },
   "file_extension": ".py",
   "mimetype": "text/x-python",
   "name": "python",
   "nbconvert_exporter": "python",
   "pygments_lexer": "ipython3",
   "version": "3.8.8"
  }
 },
 "nbformat": 4,
 "nbformat_minor": 4
}